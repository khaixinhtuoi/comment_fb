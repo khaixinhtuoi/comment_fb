{
 "cells": [
  {
   "cell_type": "markdown",
   "id": "207f33e8",
   "metadata": {},
   "source": [
    "# 0. Tạo danh sách cách từ stopword, viết tắt"
   ]
  },
  {
   "cell_type": "markdown",
   "id": "e811a76c",
   "metadata": {},
   "source": [
    "các từ viết tắt hay xuất hiện trên mạng xã hội"
   ]
  },
  {
   "cell_type": "code",
   "execution_count": 1,
   "id": "1e5f6f8a",
   "metadata": {},
   "outputs": [],
   "source": [
    "vietnamese_teen_slang = {\n",
    "    # Từ viết tắt cơ bản\n",
    "    \"đc\": \"được\",\n",
    "    \"dc\": \"được\", \n",
    "    \"k\": \"không\",\n",
    "    \"ko\": \"không\",\n",
    "    \"kg\": \"không\",\n",
    "    \"kh\": \"không\",\n",
    "    \"khg\": \"không\",\n",
    "    \"cx\": \"cũng\",\n",
    "    \"cg\": \"cũng\",\n",
    "    \"nx\": \"nữa\", \n",
    "    \"nz\": \"nữa\",\n",
    "    \"r\": \"rồi\",\n",
    "    \"z\": \"rồi\",\n",
    "    \"zồi\": \"rồi\",\n",
    "    \"zì\": \"gì\",\n",
    "    \"j\": \"gì\",\n",
    "    \"gj\": \"gì\",\n",
    "    \"mk\": \"mình\",\n",
    "    \"vk\": \"vợ\",\n",
    "    \"vc\": \"vãi cả\",\n",
    "    \"mìk\": \"mình\",\n",
    "    \"t\": \"tao\",\n",
    "    \"tao\": \"tao\", \n",
    "    \"m\": \"mày\",\n",
    "    \"may\": \"mày\",\n",
    "    \"b\": \"bạn\",\n",
    "    \"tn\": \"thế này\",\n",
    "    \"bn\": \"bạn\",\n",
    "    \"e\": \"em\",\n",
    "    \"a\": \"anh\",\n",
    "    \"c\": \"chị\",\n",
    "    \"vs\": \"với\",\n",
    "    \"w\": \"với\",\n",
    "    \"v\": \"vậy\",\n",
    "    \"chs\": \"chơi\",\n",
    "    \"ch\": \"chưa\",\n",
    "    \"chx\": \"chưa\",\n",
    "    \"ntn\": \"như thế nào\",\n",
    "    \"stn\": \"sao thế này\",\n",
    "    \"tbn\": \"thế bạn\",\n",
    "    \"h\": \"giờ\",\n",
    "    \"bh\": \"bây giờ\",\n",
    "    \"lh\": \"liên hệ\",\n",
    "    \"ns\": \"nói\",\n",
    "    \"nc\": \"nước\",\n",
    "    \"nch\": \"nói chuyện\",\n",
    "    \"ncl\": \"nói chung là\",\n",
    "    \"nc\": \"nói chuyện\",\n",
    "    \"xl\": \"xin lỗi\",\n",
    "    \"sr\": \"sorry\",\n",
    "    \"tks\": \"thanks\",\n",
    "    \"cảm ơn\": \"cảm ơn\",\n",
    "    \"ty\": \"thank you\",\n",
    "    \"thx\": \"thanks\",\n",
    "    \"aui\": \"anh yêu\",\n",
    "    \"ô\": \"ông\",\n",
    "    \"csgt\": \"cảnh sát giao thông\",\n",
    "    \"hv\": \"học viện\",\n",
    "    \"cntt\": \"công nghệ thông tin\",\n",
    "    \"mn\": \"mọi người\",\n",
    "    \"mng\": \"mọi người\",\n",
    "    \n",
    "    # Từ teen phổ biến\n",
    "    \"tml\": \"thằng mặt lồn\",\n",
    "    \"đm\": \"địt mẹ\",\n",
    "    \"dm\": \"đijt mẹ\",\n",
    "    \"wtf\": \"cái địt\",\n",
    "    \"omg\": \"ôi trời ơi\",\n",
    "    \n",
    "    \n",
    "    # Từ toxic/chửi thề (cho bài toán phân loại toxic)\n",
    "    \"vcl\": \"vãi cả lồn\",\n",
    "    \"vl\": \"vãi lồn\", \n",
    "    \"cc\": \"cặc\",\n",
    "    \"cl\": \"cái lồn\",\n",
    "    \"clm\": \"cái lồn mẹ\",\n",
    "    \"cmm\": \"con mẹ mày\",\n",
    "    \"cmn\": \"con mẹ nó\",\n",
    "    \"cmnr\": \"con mẹ nó rồi\",\n",
    "    \"dcm\": \"địt con mẹ\",\n",
    "    \"dcmm\": \"địt con mẹ mày\",\n",
    "    \"dcmn\": \"địt con mẹ nó\", \n",
    "    \"đcm\": \"địt con mẹ\",\n",
    "    \"đcmm\": \"địt con mẹ mày\",\n",
    "    \"lz\": \"lồn\",\n",
    "    \"l\": \"lồn\",\n",
    "    \"lol\": \"lồn\",\n",
    "    \"nml\": \"não mẹ lồn\",\n",
    "    \"nmn\": \"não mẹ nó\",\n",
    "    \"nmm\": \"não mẹ mày\",\n",
    "    \"vkl\": \"vãi ka lồn\",\n",
    "    \"voz\": \"vãi lồn\", \n",
    "    \"shit\": \"địt\",\n",
    "    \"fuck\": \"địt\",\n",
    "    \"fk\": \"địt\",\n",
    "    \"damn\": \"chết tiệt\",\n",
    "    \"bitch\": \"con đĩ\",\n",
    "    \"asshole\": \"thằng lồn\",\n",
    "    \"stupid\": \"ngu\",\n",
    "    \"idiot\": \"ngu\",\n",
    "    \"retard\": \"khùng\",\n",
    "    \"gay\": \"đồng tính\",\n",
    "    \"die\": \"chết đi\",\n",
    "    \"kill\": \"giết\",\n",
    "    \"hate\": \"ghét\",\n",
    "    \"ugly\": \"xấu\",\n",
    "    \"fat\": \"béo\",\n",
    "    \"loser\": \"thất bại\",\n",
    "    \"noob\": \"thua kém\",\n",
    "    \"trash\": \"rác\",\n",
    "    \"cancer\": \"ung thư\",\n",
    "    \"toxic\": \"độc hại\",\n",
    "    \n",
    "    # Từ toxic tiếng Việt\n",
    "    \"ngu\": \"ngu\",\n",
    "    \"khùng\": \"khùng\",\n",
    "    \"điên\": \"điên\", \n",
    "    \"đần\": \"đần\",\n",
    "    \"tởm\": \"tởm\",\n",
    "    \"ghê\": \"ghê\",\n",
    "    \"dở\": \"dở\",\n",
    "    \"tệ\": \"tệ\",\n",
    "    \"tồi\": \"tồi\",\n",
    "    \"rác\": \"rác\",\n",
    "    \"shit\": \"cứt\",\n",
    "    \"fck\": \"địt\",\n",
    "    \"fuk\": \"địt\",\n",
    "    \"dam\": \"chết tiệt\",\n",
    "    \"hell\": \"địa ngục\",\n",
    "    \n",
    "    # Từ viết tắt toxic\n",
    "    \"fku\": \"địt mẹ mày\",\n",
    "    \"fucku\": \"địt mẹ mày\",\n",
    "    \"fuck you\": \"địt mẹ mày\",\n",
    "    \"suck my dick\": \"bú cặc tao\",\n",
    "\n",
    "    \n",
    "    # Từ xúc phạm nhẹ\n",
    "    \"suck\": \"tệ\",\n",
    "    \"đúng z\": \"đúng rồi\",\n",
    "    \"oke\": \"okay\",\n",
    "    \"okie\": \"okay\",\n",
    "    \"ok\": \"okay\",\n",
    "    \"okela\": \"okay\",\n",
    "    \"roài\": \"rồi\",\n",
    "    \"zậy\": \"vậy\",\n",
    "    \"zị\": \"gì\",\n",
    "    \"zàng\": \"gì vậng\",\n",
    "    \"zề\": \"gì thế\",\n",
    "    \"zay\": \"vậy\",\n",
    "    \"uk\": \"ừ\",\n",
    "    \"uh\": \"ừ\",\n",
    "    \"uhm\": \"ừm\",\n",
    "    \"hm\": \"hmm\",\n",
    "    \"hihi\": \"cười\",\n",
    "    \"hehe\": \"cười\",\n",
    "    \"huhu\": \"khóc\",\n",
    "    \"hoho\": \"cười\",\n",
    "    \n",
    "    # Từ mạng xã hội\n",
    "    \"flex\": \"khoe khoang\",\n",
    "    \"chill\": \"thư giãn\",\n",
    "    \"slay\": \"xuất sắc\",\n",
    "    \"ship\": \"ghép đôi\",\n",
    "    \"crush\": \"người thích\",\n",
    "    \"babe\": \"người yêu\",\n",
    "    \"bff\": \"bạn thân mãi mãi\",\n",
    "    \"simp\": \"dại gái\",\n",
    "    \"toxic\": \"độc hại\",\n",
    "    \"red flag\": \"tín hiệu nguy hiểm\",\n",
    "    \"green flag\": \"tín hiệu tích cực\",\n",
    "    \n",
    "    # Từ game/internet\n",
    "    \"gg\": \"good game\",\n",
    "    \"ez\": \"dễ ợt\",\n",
    "    \"noob\": \"nghiệp dư\",\n",
    "    \"pro\": \"chuyên nghiệp\", \n",
    "    \"lag\": \"giật\",\n",
    "    \"bug\": \"lỗi\",\n",
    "    \"hack\": \"gian lận\",\n",
    "    \"tryhard\": \"cố gắng hết mức\",\n",
    "\n",
    "    \n",
    "    # Từ mới xuất hiện\n",
    "    \"fire\": \"xuất sắc\",\n",
    "    \n",
    "    # Từ viết tắt khác\n",
    "    \"nt\": \"như thế\",\n",
    "    \"bt\": \"bình thường\",\n",
    "    \"vt\": \"vậy thì\",\n",
    "    \"đt\": \"điện thoại\",\n",
    "    \"fb\": \"facebook\",\n",
    "    \"ig\": \"instagram\", \n",
    "    \"tt\": \"tiktok\",\n",
    "    \"yt\": \"youtube\",\n",
    "    \"zl\": \"zalo\",\n",
    "    \"mess\": \"messenger\",\n",
    "    \"vib\": \"vietinbank\",\n",
    "    \"tech\": \"techcombank\",\n",
    "    \"vcb\": \"vietcombank\",\n",
    "    \"mb\": \"mbbank\",\n",
    "    \"tp\": \"thành phố\",\n",
    "    \"q\": \"quận\",\n",
    "    \"p\": \"phường\",\n",
    "    \"st\": \"street\",\n",
    "    \"rd\": \"road\",\n",
    "    \"snvv\": \"sinh nhật vui vẻ\",\n",
    "    \n",
    "    # Từ cảm xúc\n",
    "    \"uwu\": \"dễ thương\",\n",
    "    \"owo\": \"ngạc nhiên\",\n",
    "\n",
    "    \n",
    "    # Từ thời gian\n",
    "    \"gl\": \"good luck\",\n",
    "\n",
    "}"
   ]
  },
  {
   "cell_type": "markdown",
   "id": "80c72a90",
   "metadata": {},
   "source": [
    "các từ dừng hay xuất hiện"
   ]
  },
  {
   "cell_type": "code",
   "execution_count": 2,
   "id": "77a35213",
   "metadata": {},
   "outputs": [],
   "source": [
    "vietnamese_stopwords = [\n",
    "    # Đại từ nhân xưng\n",
    "    \"tôi\", \"bạn\", \"anh\", \"chị\", \"em\", \"ông\", \"bà\", \"cô\", \"chú\", \"cậu\",\n",
    "    \"mình\", \"ta\", \"chúng ta\", \"chúng tôi\", \"các bạn\", \"họ\", \"nó\",\n",
    "    \"tự\", \"ai\", \"gì\", \"nào\", \"sao\", \"thế nào\", \"như thế nào\", \"mày\",\n",
    "    \"tao\",\n",
    "\n",
    "    \n",
    "    # Từ chỉ định\n",
    "    \"này\", \"đó\", \"kia\", \"đây\", \"đấy\", \"kìa\", \"nọ\",\n",
    "    \n",
    "    # Giới từ\n",
    "    \"của\", \"với\", \"cho\", \"tại\", \"trong\", \"ngoài\", \"trên\", \"dưới\",\n",
    "    \"về\", \"đến\", \"từ\", \"theo\", \"sau\", \"trước\", \"giữa\", \"bên\",\n",
    "    \"cùng\", \"nhờ\", \"bởi\", \"do\", \"vì\", \"để\", \"mà\", \"như\",\n",
    "    \n",
    "    # Liên từ\n",
    "    \"và\", \"hay\", \"hoặc\", \"nhưng\", \"song\", \"mặc dù\", \"tuy\", \"dù\",\n",
    "    \"nếu\", \"giả sử\", \"khi\", \"lúc\", \"hồi\", \"thuở\", \"tức là\",\n",
    "    \"nghĩa là\", \"tức\", \"tuy nhiên\", \"tuy thế\", \"thế nhưng\",\n",
    "    \n",
    "    # Từ hỏi\n",
    "    \"làm sao\", \"ra sao\", \"thế nào\", \"như nào\", \"bao giờ\", \"khi nào\",\n",
    "    \"ở đâu\", \"tại sao\", \"vì sao\", \"tại làm sao\", \"bằng cách nào\",\n",
    "    \n",
    "    # Trợ động từ\n",
    "    \"là\", \"thì\", \"mà\", \"rồi\", \"đã\", \"sẽ\", \"có thể\", \"phải\",\n",
    "    \"nên\", \"được\", \"bị\", \"vẫn\", \"vẫn còn\", \"còn\", \"đang\",\n",
    "    \"sắp\", \"vừa\", \"mới\", \"cũng\", \"cùng\", \"chỉ\", \"chỉ có\",\n",
    "    \n",
    "    # Từ định lượng\n",
    "    \"nhiều\", \"ít\", \"vài\", \"mấy\", \"bao nhiêu\", \"tất cả\", \"toàn bộ\",\n",
    "    \"cả\", \"mọi\", \"từng\", \"mỗi\", \"một số\", \"phần lớn\", \"đa số\",\n",
    "    \"thiểu số\", \"một phần\", \"hầu hết\", \"gần như\", \"hơn\", \"dưới\",\n",
    "    \n",
    "    # Từ thời gian\n",
    "    \"hôm nay\", \"ngày mai\", \"hôm qua\", \"tuần này\", \"tháng này\",\n",
    "    \"năm này\", \"hiện tại\", \"bây giờ\", \"lúc này\", \"khi đó\",\n",
    "    \"lúc đó\", \"thuở đó\", \"ngày xưa\", \"xưa kia\", \"sau này\",\n",
    "    \n",
    "    # Từ nối, từ tình thái\n",
    "    \"thật\", \"thực\", \"quả\", \"đúng\", \"rõ\", \"rất\", \"khá\", \"hơi\",\n",
    "    \"tương đối\", \"khôn\", \"lắm\", \"quá\", \"cực\", \"cực kỳ\",\n",
    "    \"vô cùng\", \"hết sức\", \"đặc biệt\", \"nhất là\", \"đúng là\",\n",
    "    \n",
    "    # Các từ khác thường gặp\n",
    "    \"về phần\", \"về mặt\", \"theo như\", \"như vậy\", \"thế thôi\",\n",
    "    \"vậy thôi\", \"chỉ thế\", \"có lẽ\", \"chắc\", \"chắc chắn\",\n",
    "    \"dĩ nhiên\", \"tất nhiên\", \"đương nhiên\", \"hiển nhiên\",\n",
    "    \"rõ ràng\", \"hẳn\", \"nhất định\", \"chắc hẳn\",\n",
    "    \n",
    "    # Từ kết thúc câu\n",
    "    \"thôi\", \"vậy\", \"đó\", \"mà thôi\", \"à\", \"ạ\", \"ư\", \"hử\",\n",
    "    \"nhé\", \"nha\", \"ha\", \"hehe\", \"hihi\",\n",
    "    \n",
    "    # Từ phổ biến khác\n",
    "    \"việc\", \"chuyện\", \"công việc\", \"vấn đề\", \"vần đề\", \"điều\",\n",
    "    \"cái\", \"con\", \"chiếc\", \"cuốn\", \"quyển\", \"bức\", \"bài\",\n",
    "    \"người\", \"thằng\", \"con người\", \"ai đó\", \"có người\",\n",
    "    \"gia đình\", \"nhà\", \"quê\", \"quê hương\", \"đất nước\",\n",
    "    \n",
    "    # Từ cảm thán không phủ định\n",
    "    \"ôi\", \"ối\", \"ơi\", \"ừ\", \"ờ\", \"à\", \"ạ\", \"ư\", \"hử\",\n",
    "    \"wow\", \"wao\", \"chà\", \"trời\", \"trời ơi\", \"chao ôi\",\n",
    "    \n",
    "    # Từ chỉ mức độ\n",
    "    \"hơn hẳn\", \"kém\", \"bằng\", \"ngang\", \"thua\", \"thắng\",\n",
    "    \"cao\", \"thấp\", \"lớn\", \"nhỏ\", \"to\", \"bé\", \"dài\", \"ngắn\",\n",
    "    \n",
    "    # Từ chỉ phương hướng\n",
    "    \"lên\", \"xuống\", \"vào\", \"ra\", \"qua\", \"lại\", \"lui\",\n",
    "    \"tới\", \"đi\", \"về\", \"lại đây\", \"ra đó\", \"vào trong\",\n",
    "    \n",
    "    # Số đếm cơ bản\n",
    "    \"một\", \"hai\", \"ba\", \"bốn\", \"năm\", \"sáu\", \"bảy\", \"tám\", \"chín\", \"mười\",\n",
    "    \"trăm\", \"nghìn\", \"triệu\", \"tỷ\", \"đầu tiên\", \"thứ hai\", \"thứ ba\",\n",
    "    \n",
    "    # Từ khẳng định (không phủ định)\n",
    "    \"ừ\", \"ờ\", \"đúng\", \"phải\", \"được\", \"ok\", \"oke\", \"okie\",\n",
    "    \n",
    "    # Từ chỉ thời điểm\n",
    "    \"sáng\", \"chiều\", \"tối\", \"đêm\", \"trưa\", \"sớm\", \"muộn\",\n",
    "    \"Thứ Hai\", \"Thứ Ba\", \"Thứ Tư\", \"Thứ Năm\", \"Thứ Sáu\", \"Thứ Bảy\", \"Chủ Nhật\"\n",
    "]"
   ]
  },
  {
   "cell_type": "markdown",
   "id": "31e4f48d",
   "metadata": {},
   "source": [
    "# 1. Đọc dữ liệu"
   ]
  },
  {
   "cell_type": "code",
   "execution_count": 3,
   "id": "ffe96416",
   "metadata": {},
   "outputs": [],
   "source": [
    "import numpy as np\n",
    "import pandas as pd"
   ]
  },
  {
   "cell_type": "markdown",
   "id": "46ee4ed1",
   "metadata": {},
   "source": [
    "Đọc dữ data có sẵn label"
   ]
  },
  {
   "cell_type": "code",
   "execution_count": 4,
   "id": "6b3a4720",
   "metadata": {},
   "outputs": [
    {
     "data": {
      "application/vnd.microsoft.datawrangler.viewer.v0+json": {
       "columns": [
        {
         "name": "index",
         "rawType": "int64",
         "type": "integer"
        },
        {
         "name": "comment",
         "rawType": "object",
         "type": "string"
        },
        {
         "name": "label",
         "rawType": "int64",
         "type": "integer"
        }
       ],
       "ref": "67c7a9b8-908b-458e-a94c-26021bb3c74c",
       "rows": [
        [
         "0",
         "Shop ơi có mẫu này size 38 không ạ? Dr cho mình xin giá với nhé.",
         "0"
        ],
        [
         "1",
         "Nhận pass lại giáo trình Kinh tế vĩ mô, sách còn mới 99% chưa ghi chép gì. Giá 50k, ai cần ib.",
         "1"
        ],
        [
         "2",
         "Clb guitar tuần này có buổi sinh hoạt không ad ơi?",
         "0"
        ],
        [
         "3",
         "BẠN CÓ MUỐN KIẾM 300K MỖI NGÀY? Chỉ cần điện thoại và thời gian rảnh. Công việc đơn giản, không vốn, không lừa đảo. Liên hệ Zalo: 09xxyyzz",
         "1"
        ],
        [
         "4",
         "Vcl quả drama mới. Con bé A cặp với thầy B á? Hóng link.",
         "0"
        ],
        [
         "5",
         "Cần tìm người học chung Ielts mục tiêu 7.0. Mình ở khu vực Cầu Giấy.",
         "0"
        ],
        [
         "6",
         "Thanh lý toàn bộ đồ dùng sinh viên: bàn học, giá sách, nồi cơm điện. Đồng giá 100k. Mình sắp ra trường nên pass rẻ.",
         "1"
        ],
        [
         "7",
         "Mấy đứa ơi có ai biết pass wifi thư viện là gì không?",
         "0"
        ],
        [
         "8",
         "Bên mình chuyên nhận làm assignment, thesis, đảm bảo qua môn, điểm cao. Uy tín, bảo mật info.",
         "1"
        ],
        [
         "9",
         "Nói thật học ngành này ra trường không biết làm gì luôn á.",
         "0"
        ],
        [
         "10",
         "Sao quả ảnh này nhìn như pts thế nhỉ?",
         "0"
        ],
        [
         "11",
         "🔥 XẢ KHO CUỐI NĂM - LAPTOP GAMING GIẢM SỐC 50% 🔥 FREESHIP TOÀN QUỐC. Check ngay tại link bio!",
         "1"
        ],
        [
         "12",
         "Thầy dạy môn này chán vcl, buồn ngủ chết đi được.",
         "0"
        ],
        [
         "13",
         "Có ai biết chỗ nào ăn buffet lẩu nướng ngon bổ rẻ cho sv không?",
         "0"
        ],
        [
         "14",
         "Bạn nào rớt môn GDTC thì về đội của mình :))",
         "0"
        ],
        [
         "15",
         "Tuyển 10 bạn nữ làm PG cho sự kiện, ngoại hình ưa nhìn, cao >1m65. Lương 700k/ngày.",
         "1"
        ],
        [
         "16",
         "Đm quả mạng ktx như cc, load mãi ko xong.",
         "0"
        ],
        [
         "17",
         "Ai có info bạn nam mặc áo hoodie đen ngồi bàn đầu lớp Triết sáng nay không?",
         "0"
        ],
        [
         "18",
         "Chỉ 1 liệu trình, da trắng bật tông, mờ thâm nám. Cam kết hoàn tiền nếu không hiệu quả. Ib để được tư vấn.",
         "1"
        ],
        [
         "19",
         "Mọi người cho em hỏi, học phí trường mình kỳ này tăng hay sao ấy ạ?",
         "0"
        ],
        [
         "20",
         "Đăng ký học lại ở đâu vậy chúng m?",
         "0"
        ],
        [
         "21",
         "Bạn nào đang tìm việc làm thêm không? Quán trà chanh gần trường mình đang cần người.",
         "0"
        ],
        [
         "22",
         "VAY TIỀN ONLINE - KHÔNG GẶP MẶT - CÓ TIỀN SAU 5 PHÚT. Chỉ cần CMND/CCCD. Lãi suất thấp nhất thị trường.",
         "1"
        ],
        [
         "23",
         "Bài này copy trên mạng chứ sáng tạo cc gì.",
         "0"
        ],
        [
         "24",
         "Ai có tài khoản ChatGPT Plus không cho mình dùng ké với.",
         "0"
        ],
        [
         "25",
         "Nhận order đồ ăn vặt Hàn Quốc, tối nay mình chốt đơn nhé mng.",
         "1"
        ],
        [
         "26",
         "Học bổng của trường mình yêu cầu GPA bao nhiêu vậy ạ?",
         "0"
        ],
        [
         "27",
         "Thằng báo team đây rồi, game nào cũng afk.",
         "0"
        ],
        [
         "28",
         "Cần pass gấp con iphone 11 lock, máy còn ngon, pin 90%. Giá 4tr có fix.",
         "1"
        ],
        [
         "29",
         "Mai thi rồi mà giờ chữ nào cũng chưa vào đầu. Toang.",
         "0"
        ],
        [
         "30",
         "Ad duyệt bài em với, em bị lừa mất 500k tiền cọc phòng trọ, muốn cảnh báo mng.",
         "0"
        ],
        [
         "31",
         "Bạn nào cần tìm người yêu đi chơi noel thì dr mình nhé. Mình FA lâu năm rồi.",
         "0"
        ],
        [
         "32",
         "CUNG CẤP TÀI KHOẢN NETFLIX, YOUTUBE PREMIUM GIÁ RẺ. Bảo hành suốt thời gian sử dụng.",
         "1"
        ],
        [
         "33",
         "Lại phải lên thư viện cày deadline thôi.",
         "0"
        ],
        [
         "34",
         "Ngu thì chết chứ bệnh tật gì.",
         "0"
        ],
        [
         "35",
         "Tham gia group chia sẻ tài liệu học tập free cho sv. Link ở bio nhé.",
         "1"
        ],
        [
         "36",
         "Có ai đi xe bus 32 không cho mình hỏi mấy giờ có chuyến cuối ạ?",
         "0"
        ],
        [
         "37",
         "Góc tìm đồ: Em có làm rơi 1 cái thẻ sinh viên ở căng tin, ai nhặt được cho em xin lại với ạ.",
         "0"
        ],
        [
         "38",
         "Tuyển mẫu nail cho học viên, free 100%. Nhanh tay đặt lịch kẻo hết slot.",
         "1"
        ],
        [
         "39",
         "Ôi idol của tôi, đẹp trai quá.",
         "0"
        ],
        [
         "40",
         "Chỗ này gửi xe qua đêm có an toàn không mọi người?",
         "0"
        ],
        [
         "41",
         "Bán data 1000 khách hàng tiềm năng, phù hợp cho các bạn sale. Giá rẻ.",
         "1"
        ],
        [
         "42",
         "Học xong 4 năm mà cảm thấy mông lung quá.",
         "0"
        ],
        [
         "43",
         "Đứa nào có link xem phim này full HD không?",
         "0"
        ],
        [
         "44",
         "BÍ KÍP ĐẠT 900+ TOEIC TRONG 3 THÁNG. Tài liệu độc quyền, cam kết đầu ra. Inbox để nhận ngay!",
         "1"
        ],
        [
         "45",
         "Môn này có được dùng tài liệu lúc thi không nhỉ?",
         "0"
        ],
        [
         "46",
         "Cmt này mà được 100 like tôi tỏ tình crush.",
         "0"
        ],
        [
         "47",
         "Bạn nào cần thuê trọ gần trường thì liên hệ mình nhé, chính chủ không qua trung gian.",
         "1"
        ],
        [
         "48",
         "Đang đi học mà mẹ gọi hỏi có cần tiền không. Hạnh phúc giản đơn.",
         "0"
        ],
        [
         "49",
         "Logic như cc mà cũng nói được.",
         "0"
        ]
       ],
       "shape": {
        "columns": 2,
        "rows": 1660
       }
      },
      "text/html": [
       "<div>\n",
       "<style scoped>\n",
       "    .dataframe tbody tr th:only-of-type {\n",
       "        vertical-align: middle;\n",
       "    }\n",
       "\n",
       "    .dataframe tbody tr th {\n",
       "        vertical-align: top;\n",
       "    }\n",
       "\n",
       "    .dataframe thead th {\n",
       "        text-align: right;\n",
       "    }\n",
       "</style>\n",
       "<table border=\"1\" class=\"dataframe\">\n",
       "  <thead>\n",
       "    <tr style=\"text-align: right;\">\n",
       "      <th></th>\n",
       "      <th>comment</th>\n",
       "      <th>label</th>\n",
       "    </tr>\n",
       "  </thead>\n",
       "  <tbody>\n",
       "    <tr>\n",
       "      <th>0</th>\n",
       "      <td>Shop ơi có mẫu này size 38 không ạ? Dr cho mìn...</td>\n",
       "      <td>0</td>\n",
       "    </tr>\n",
       "    <tr>\n",
       "      <th>1</th>\n",
       "      <td>Nhận pass lại giáo trình Kinh tế vĩ mô, sách c...</td>\n",
       "      <td>1</td>\n",
       "    </tr>\n",
       "    <tr>\n",
       "      <th>2</th>\n",
       "      <td>Clb guitar tuần này có buổi sinh hoạt không ad...</td>\n",
       "      <td>0</td>\n",
       "    </tr>\n",
       "    <tr>\n",
       "      <th>3</th>\n",
       "      <td>BẠN CÓ MUỐN KIẾM 300K MỖI NGÀY? Chỉ cần điện t...</td>\n",
       "      <td>1</td>\n",
       "    </tr>\n",
       "    <tr>\n",
       "      <th>4</th>\n",
       "      <td>Vcl quả drama mới. Con bé A cặp với thầy B á? ...</td>\n",
       "      <td>0</td>\n",
       "    </tr>\n",
       "    <tr>\n",
       "      <th>...</th>\n",
       "      <td>...</td>\n",
       "      <td>...</td>\n",
       "    </tr>\n",
       "    <tr>\n",
       "      <th>1655</th>\n",
       "      <td>Thằng main trong bộ phim này ngu lồn vcl, xem ...</td>\n",
       "      <td>0</td>\n",
       "    </tr>\n",
       "    <tr>\n",
       "      <th>1656</th>\n",
       "      <td>Có ai biết cách stream phim từ laptop lên TV k...</td>\n",
       "      <td>0</td>\n",
       "    </tr>\n",
       "    <tr>\n",
       "      <th>1657</th>\n",
       "      <td>Bán tài khoản VIP cho các trang học tiếng Anh ...</td>\n",
       "      <td>1</td>\n",
       "    </tr>\n",
       "    <tr>\n",
       "      <th>1658</th>\n",
       "      <td>Có ai biết quán cafe phim nào ở Hà Nội không?</td>\n",
       "      <td>0</td>\n",
       "    </tr>\n",
       "    <tr>\n",
       "      <th>1659</th>\n",
       "      <td>Pass lại con laptop gaming do cần tiền mua máy...</td>\n",
       "      <td>0</td>\n",
       "    </tr>\n",
       "  </tbody>\n",
       "</table>\n",
       "<p>1660 rows × 2 columns</p>\n",
       "</div>"
      ],
      "text/plain": [
       "                                                comment  label\n",
       "0     Shop ơi có mẫu này size 38 không ạ? Dr cho mìn...      0\n",
       "1     Nhận pass lại giáo trình Kinh tế vĩ mô, sách c...      1\n",
       "2     Clb guitar tuần này có buổi sinh hoạt không ad...      0\n",
       "3     BẠN CÓ MUỐN KIẾM 300K MỖI NGÀY? Chỉ cần điện t...      1\n",
       "4     Vcl quả drama mới. Con bé A cặp với thầy B á? ...      0\n",
       "...                                                 ...    ...\n",
       "1655  Thằng main trong bộ phim này ngu lồn vcl, xem ...      0\n",
       "1656  Có ai biết cách stream phim từ laptop lên TV k...      0\n",
       "1657  Bán tài khoản VIP cho các trang học tiếng Anh ...      1\n",
       "1658      Có ai biết quán cafe phim nào ở Hà Nội không?      0\n",
       "1659  Pass lại con laptop gaming do cần tiền mua máy...      0\n",
       "\n",
       "[1660 rows x 2 columns]"
      ]
     },
     "execution_count": 4,
     "metadata": {},
     "output_type": "execute_result"
    }
   ],
   "source": [
    "data_have_label = pd.read_csv('train_spam.csv')\n",
    "data_have_label"
   ]
  },
  {
   "cell_type": "markdown",
   "id": "a49747ab",
   "metadata": {},
   "source": [
    "Đọc dữ liệu comment sinh viên ptit thu nhập được, không có label"
   ]
  },
  {
   "cell_type": "code",
   "execution_count": 5,
   "id": "9d976371",
   "metadata": {},
   "outputs": [
    {
     "data": {
      "application/vnd.microsoft.datawrangler.viewer.v0+json": {
       "columns": [
        {
         "name": "index",
         "rawType": "int64",
         "type": "integer"
        },
        {
         "name": "text",
         "rawType": "object",
         "type": "string"
        },
        {
         "name": "length",
         "rawType": "int64",
         "type": "integer"
        }
       ],
       "ref": "26fcf316-23c9-4e42-89ed-fcd8d8d55757",
       "rows": [
        [
         "0",
         "CHÚC MỪNG SINH VIÊN PTIT TỎA SÁNG VỚI BA GIẢI THƯỞNG CAO QUÝ TẠI VIETFUTURE AWARDS 2025!\nVietFuture Awards là giải thưởng thường niên do Hiệp hội Phần mềm và Dịch vụ CNTT Việt Nam (VINASA) tổ chức, nhằm tôn vinh và thúc đẩy những dự án khởi nghiệp đổi mới sáng tạo của sinh viên trên toàn quốc. Đây không chỉ là sân chơi cho tài năng, mà còn là cầu nối hợp tác giữa các trường đại học và doanh nghiệp, thúc đẩy thương mại hóa các nghiên cứu, đồng thời mở rộng cơ hội nghề nghiệp cho sinh viên.\nTrong hành trình chinh phục đỉnh cao sáng tạo, hai đội sinh viên Chương trình Công nghệ Thông tin Định hướng Ứng dụng của PTIT đã xuất sắc ghi dấu ấn với các giải thưởng xuất sắc tại VietFuture Awards 2025:\nGiải Nhất & Giải Đặc biệt thuộc về dự án Unijob — nền tảng AI kết nối sinh viên, doanh nghiệp và nhà trường, giúp chuẩn hóa hồ sơ năng lực và tối ưu cơ hội tìm việc làm, mang đến giải pháp công nghệ thiết thực cho thị trường tuyển dụng.\nGiải Ba thuộc về dự án Myosotis — hệ thống AI chăm sóc cá nhân hóa dành cho bệnh nhân sa sút trí tuệ và Alzheimer, tích hợp chatbot y tế, công nghệ giọng nói và hình ảnh, tạo nên giải pháp y tế toàn diện với chi phí tiết kiệm, góp phần nâng cao chất lượng cuộc sống cho người cao tuổi.\nGiải Tiềm năng thuộc về Dự án Giải pháp AI phát hiện rối loạn nhịp tim tự động dựa trên tín hiệu điện tâm đồ.\nĐặc biệt, Giải Đặc biệt chỉ dành cho 3 đội xuất sắc nhất, được chọn từ 7 đội đạt giải Nhất. Đây là phần thưởng cao quý với nhiều quyền lợi giá trị: Startup POD trị giá 880 USD tại GITEX Vietnam, cơ hội kết nối nhà đầu tư, vé đại biểu toàn quyền tham dự sự kiện, lưu trú và đi lại khứ hồi TP.HCM – Hà Nội.\nVới kết quả xuất sắc của 3 đội thi dành được 4 giải, Học viện được trao giải Nhì toàn đoàn. Thành công này là lời khẳng định cam kết của sinh viên PTIT trong việc phát triển các sản phẩm công nghệ có giá trị ứng dụng cao, góp phần xây dựng cộng đồng và phát triển xã hội bền vững.\nXin gửi lời chúc mừng và cảm ơn sâu sắc tới các bạn sinh viên cùng đội ngũ hướng dẫn đã làm rạng danh PTIT trên đấu trường công nghệ uy tín này!\nHãy đồng hành và tiếp tục ủng hộ những tài năng trẻ của chúng ta trong các chặng đường phía trước!\n#PTIT #VietFutureAwards2025 #UDU #CNTTdinhhuongungdung\n_______________________________\nHỌC VIỆN CÔNG NGHỆ BƯU CHÍNH VIỄN THÔNG\nTrụ sở chính: 122 Hoàng Quốc Việt, P.Nghĩa Đô, Hà Nội.\nHọc viện Cơ sở tại TPHCM: 11 Nguyễn Đình Chiểu, P. Sài gòn, Thành phố Hồ Chí Minh.\nCơ sở Đào tạo tại Hà Đông: Km10 Đường Nguyễn Trãi, P.Hà Đông, Hà Nội.\nCơ sở Đào tạo tại Ngọc Trục: Ngõ 33, Đường Đại Mỗ, P.Dương Nội, Hà Nội.\nCơ sở Đào tạo tại TP.HCM: 97 Đường Man Thiện, P. Tăng Nhơn Phú,  TP.Hồ Chí Minh\n► Website: https://ptit.edu.vn\n► Fanpage: \nhttps://facebook.com/HocvienPTIT\n► Tuyển sinh: https://tuyensinh.ptit.edu.vn/\n► Youtube: https://www.youtube.com/@PChannels\n► Tiktok: https://www.tiktok.com/@langthangptit",
         "2865"
        ],
        [
         "1",
         "Chúc mừng zai mẹ nhé",
         "20"
        ],
        [
         "2",
         "Xin chúc mừng các bạn trẻ",
         "25"
        ],
        [
         "3",
         "1 bữa lẩu ở iec nhé\nNguyễn Trang",
         "32"
        ],
        [
         "4",
         "Nguyễn Trang\nchờ quà hcm lâu quá",
         "32"
        ],
        [
         "5",
         "Chúc mừng sinh viên học giỏi",
         "28"
        ],
        [
         "6",
         "Chúc mừng sinh viên PTIT.học giỏi quá",
         "37"
        ],
        [
         "7",
         "Chúc mừng các bạn trẻ.",
         "22"
        ],
        [
         "8",
         "Chi Thuy\noách quá",
         "17"
        ],
        [
         "9",
         "Chi Thuy\nbạn này đỉnh quá là đỉnh",
         "33"
        ],
        [
         "10",
         "Chúc mừng các chàng trai PTIT",
         "29"
        ],
        [
         "11",
         "NC Minh Hiếu\nng quen cho e xin ít exp giật giải",
         "47"
        ],
        [
         "12",
         "ngao nghe UDU",
         "13"
        ],
        [
         "13",
         "Đội của con được giải gì",
         "24"
        ],
        [
         "14",
         "NC Minh Hiếu\nquá tuyệt vời",
         "26"
        ],
        [
         "15",
         "Nguyễn Hữu Nam\nnhất b còn j",
         "27"
        ],
        [
         "16",
         "Thuy Chi\nNguyễn Trang\nghê vậyyyy",
         "32"
        ],
        [
         "17",
         "Đỉnh thật. Chúc mừng các em. Chúc mừng nhà trường",
         "49"
        ],
        [
         "18",
         "Chi Thuy\nwow hẳn 2chục chiệu",
         "28"
        ],
        [
         "19",
         "UDU kìa",
         "7"
        ],
        [
         "20",
         "[MÁU XƯƠNG ĐỔ XUỐNG - ĐẤT TRỜI LƯU DANH]\nTừng suất chiếu \"Mưa Đỏ\" khép lại, nhưng cảm xúc tự hào và lòng biết ơn chắc chắn vẫn còn cuộn trào. Chúng ta đã cùng lặng đi trước những hy sinh vĩ đại của cha ông, để hiểu sâu sắc rằng: Nền hoà bình hôm nay được đánh đổi bằng máu xương, bằng niềm tin tuyệt đối, bằng sự đoàn kết sắt son, và bằng những lý tưởng cao đẹp được giữ trọn vẹn qua bão đạn.\nNếu \"Mưa Đỏ\" đã chạm đến bạn, hãy để lại một dòng cảm nhận, hoặc đơn giản, một lá cờ Tổ quốc \n.\nBa bài học ấy vẫn còn nguyên giá trị. Cha ông ta đã dùng máu xương để giữ trọn niềm tin nơi chiến tuyến. Còn chúng ta hôm nay, lại đang đối mặt với một \"kẻ thù\" vô hình, thứ lợi dụng chính lòng tin của chúng ta. Thật đau lòng khi ngay những ngày đầu nhập học, nhiều phụ huynh và tân sinh viên đã phải chịu những mất mát không đáng có, chỉ vì tin vào những nguồn thông tin không đáng tin cậy, nặc danh, phi chính thống. Đừng bao giờ đặt niềm tin vào nơi mà chính bạn cũng không biết họ là ai và từ đâu tới.\nBài học từ \"Mưa Đỏ\" là bất biến: Phải đoàn kết để bảo vệ thành quả và bảo vệ chính đồng đội của mình. Vì vậy, hãy cùng nhau xây dựng một cộng đồng D25 tỉnh táo, văn minh và đùm bọc lẫn nhau. Hãy đặt niềm tin trọn vẹn vào các kênh thông tin chính thống từ Thầy Cô và Học viện.\nCam kết của Học viện là sẽ luôn lắng nghe và đồng hành cùng các sinh viên. Con đường phía trước có thể còn chông gai, nhưng chắc chắn Thầy và Trò sẽ cùng nỗ lực hơn mỗi ngày.\nHọc viện sẽ làm tốt hơn mỗi ngày và các bạn cũng thế.\nMỗi ngày sẽ có nhiều hơn những sản phẩm Khoa học và Công nghệ, những nghiên cứu Đổi mới sáng tạo được khám phá bởi sinh viên PTIT.\nMỗi ngày sẽ có nhiều hơn những cơ hội việc làm, quyền lợi, chính sách tốt dành cho các bạn sinh viên PTIT.\nMỗi ngày sẽ có nhiều hơn sinh viên PTIT trên trường Quốc tế.\nMỗi ngày sẽ có nhiều hơn những hoạt động, chương trình trải nghiệm, giao lưu mang tới sự giải trí, vui vẻ cho sinh viên PTIT.\nChúng ta sẽ cùng kiến tạo ngôi nhà chung PTIT vững mạnh, để tiếp nối lý tưởng cao đẹp: góp phần xây dựng một dân tộc Việt Nam hùng cường.\nVà sau những giây phút lắng đọng của lịch sử, hãy sẵn sàng cho những khoảnh khắc bùng nổ của tuổi trẻ! Một Chương trình âm nhạc Chào tân sinh viên PTIT 2025 hoành tráng đang chờ đón các bạn ở phía trước.\nHẹn gặp tất cả các bạn tại Sân A2 vào tối thứ Ba, ngày 16 tháng 9 năm 2025 nhé!\n#PTIT #ChaoTanSinhVienD25 #MuaDo #NiemTin #DoanKet #LyTuongCaoDep #PTITMusicShow2025\n___________________________________\nHỌC VIỆN CÔNG NGHỆ BƯU CHÍNH VIỄN THÔNG\nTrụ sở chính: 122 Hoàng Quốc Việt, P.Nghĩa Đô, Hà Nội.\nHọc viện Cơ sở tại TPHCM: 11 Nguyễn Đình Chiểu, P. Sài gòn, Thành phố Hồ Chí Minh.\nCơ sở Đào tạo tại Hà Đông: Km10 Đường Nguyễn Trãi, P.Hà Đông, Hà Nội.\nCơ sở Đào tạo tại Ngọc Trục: Ngõ 33, Đường Đại Mỗ, P.Dương Nội, Hà Nội.\nCơ sở Đào tạo tại TP.HCM: 97 Đường Man Thiện, P. Tăng Nhơn Phú,  TP.Hồ Chí Minh\n► Fanpage: \nhttps://facebook.com/HocvienPTIT\n► Tuyển sinh: https://tuyensinh.ptit.edu.vn/\n► Youtube: https://www.youtube.com/@PChannels\n► Tiktok: https://www.tiktok.com/@langthangptit\n► Website: https://ptit.edu.vn",
         "3082"
        ],
        [
         "21",
         "Trường tặng thêm 1000 vé nữa đi ạ",
         "33"
        ],
        [
         "22",
         "Chậm chân mất rồi",
         "17"
        ],
        [
         "23",
         "Phim 2 tiếng em khóc hết 2 tiếng huhu (⁠っ⁠˘̩⁠╭⁠╮⁠˘̩⁠)⁠っ",
         "55"
        ],
        [
         "24",
         "Minh Quân Lương\ntrường b sướng thế=))",
         "37"
        ],
        [
         "25",
         "BTC chắc phải chuẩn bị cả giấy khô cho khán giả lau nước mắt nữa ạ",
         "66"
        ],
        [
         "26",
         "Thuấn Đặng Hoa Lan",
         "18"
        ],
        [
         "27",
         "Đúng là trường bạch nguyệt quang của em",
         "39"
        ],
        [
         "28",
         "Cờ đỏ sao vàng",
         "14"
        ],
        [
         "29",
         "Buồn cho nam chính :((",
         "22"
        ],
        [
         "30",
         "Hồng Nhung\neii nha",
         "18"
        ],
        [
         "31",
         "PTIT mãi đỉnh mãi đỉnh",
         "22"
        ],
        [
         "32",
         "Nguyễn Bảo Trâm\noách",
         "20"
        ],
        [
         "33",
         "chịu ời",
         "7"
        ],
        [
         "34",
         "Sao mình k thấy tb j nhỉ",
         "24"
        ],
        [
         "35",
         "xem vứi huhu",
         "12"
        ],
        [
         "36",
         "Lê Việt\ntrường m giàu vậy m =))",
         "31"
        ],
        [
         "37",
         "Long Phạm",
         "9"
        ],
        [
         "38",
         "Cỡ nàyy",
         "7"
        ],
        [
         "39",
         "1000 VÉ “MƯA ĐỎ” ĐÃ CHÍNH THỨC FULL!\nXin chúc mừng những bạn tân sinh viên PTIT may mắn nhất đã đăng ký thành công để sở hữu tấm vé tham dự suất chiếu đặc biệt của bộ phim “Mưa Đỏ” – tác phẩm điện ảnh ý nghĩa trong dịp kỷ niệm mùa thu lịch sử của dân tộc.\nThông tin nhận vé:\nThời gian: 14h00 – 17h00, ngày 12/09\nĐịa điểm: Lab Huawei (Tầng 2 Hội trường A2)– Học viện Công nghệ Bưu chính Viễn thông\nKhi đến nhận vé, các bạn mang theo thẻ sinh viên hoặc slink đăng ký có ảnh chân dung để đối chiếu thông tin.\nMột lần nữa xin chúc mừng các bạn đã “bắt” được chiếc vé đặc biệt này! Hãy sẵn sàng để hòa mình vào cơn mưa đỏ trên màn ảnh rộng và cùng sống lại niềm tự hào dân tộc qua từng thước phim.\nHẹn gặp lại các bạn D25 tại rạp nhé!\n___________________________________\nHỌC VIỆN CÔNG NGHỆ BƯU CHÍNH VIỄN THÔNG\nTrụ sở chính: 122 Hoàng Quốc Việt, P.Nghĩa Đô, Hà Nội.\nHọc viện Cơ sở tại TPHCM: 11 Nguyễn Đình Chiểu, P. Sài gòn, Thành phố Hồ Chí Minh.\nCơ sở Đào tạo tại Hà Đông: Km10 Đường Nguyễn Trãi, P.Hà Đông, Hà Nội.\nCơ sở Đào tạo tại Ngọc Trục: Ngõ 33, Đường Đại Mỗ, P.Dương Nội, Hà Nội.\nCơ sở Đào tạo tại TP.HCM: 97 Đường Man Thiện, P. Tăng Nhơn Phú,  TP.Hồ Chí Minh\n► Fanpage: \nhttps://facebook.com/HocvienPTIT\n► Tuyển sinh: https://tuyensinh.ptit.edu.vn/\n► Youtube: https://www.youtube.com/@PChannels\n► Tiktok: https://www.tiktok.com/@langthangptit\n► Website: https://ptit.edu.vn",
         "1380"
        ],
        [
         "40",
         "Anh chị cho em hỏi nếu hôm nay em không đến nhận được thì mai có thể lấy sau ko ạ? Vì em ở quê lên nên sợ không kịp",
         "115"
        ],
        [
         "41",
         "Nếu chiều nay ko kịp lấy thì mai lấy đc ko ạ",
         "44"
        ],
        [
         "42",
         "Nguyen Hoà\nơ đăng kí được chưa em ơi",
         "36"
        ],
        [
         "43",
         "Vũ Công Hồng Minh,trường con đỉnh thật",
         "38"
        ],
        [
         "44",
         "Shcd thì hơn 5h đến đc ko vậy :vv",
         "33"
        ],
        [
         "45",
         "PH đi cùng đc ko nhỉ",
         "20"
        ],
        [
         "46",
         "Chất dữ",
         "7"
        ],
        [
         "47",
         "Trường ơi e chưa dc ma=))",
         "25"
        ],
        [
         "48",
         "trường ơi D24 cũng muốn ạ ....",
         "30"
        ],
        [
         "49",
         "Cũng muốn đi",
         "12"
        ]
       ],
       "shape": {
        "columns": 2,
        "rows": 4749
       }
      },
      "text/html": [
       "<div>\n",
       "<style scoped>\n",
       "    .dataframe tbody tr th:only-of-type {\n",
       "        vertical-align: middle;\n",
       "    }\n",
       "\n",
       "    .dataframe tbody tr th {\n",
       "        vertical-align: top;\n",
       "    }\n",
       "\n",
       "    .dataframe thead th {\n",
       "        text-align: right;\n",
       "    }\n",
       "</style>\n",
       "<table border=\"1\" class=\"dataframe\">\n",
       "  <thead>\n",
       "    <tr style=\"text-align: right;\">\n",
       "      <th></th>\n",
       "      <th>text</th>\n",
       "      <th>length</th>\n",
       "    </tr>\n",
       "  </thead>\n",
       "  <tbody>\n",
       "    <tr>\n",
       "      <th>0</th>\n",
       "      <td>CHÚC MỪNG SINH VIÊN PTIT TỎA SÁNG VỚI BA GIẢI ...</td>\n",
       "      <td>2865</td>\n",
       "    </tr>\n",
       "    <tr>\n",
       "      <th>1</th>\n",
       "      <td>Chúc mừng zai mẹ nhé</td>\n",
       "      <td>20</td>\n",
       "    </tr>\n",
       "    <tr>\n",
       "      <th>2</th>\n",
       "      <td>Xin chúc mừng các bạn trẻ</td>\n",
       "      <td>25</td>\n",
       "    </tr>\n",
       "    <tr>\n",
       "      <th>3</th>\n",
       "      <td>1 bữa lẩu ở iec nhé\\nNguyễn Trang</td>\n",
       "      <td>32</td>\n",
       "    </tr>\n",
       "    <tr>\n",
       "      <th>4</th>\n",
       "      <td>Nguyễn Trang\\nchờ quà hcm lâu quá</td>\n",
       "      <td>32</td>\n",
       "    </tr>\n",
       "    <tr>\n",
       "      <th>...</th>\n",
       "      <td>...</td>\n",
       "      <td>...</td>\n",
       "    </tr>\n",
       "    <tr>\n",
       "      <th>4744</th>\n",
       "      <td>Đâu:)?</td>\n",
       "      <td>6</td>\n",
       "    </tr>\n",
       "    <tr>\n",
       "      <th>4745</th>\n",
       "      <td>Hoang Anh\\n?</td>\n",
       "      <td>11</td>\n",
       "    </tr>\n",
       "    <tr>\n",
       "      <th>4746</th>\n",
       "      <td>Chi Linh</td>\n",
       "      <td>8</td>\n",
       "    </tr>\n",
       "    <tr>\n",
       "      <th>4747</th>\n",
       "      <td>Quynh Anh\\nok</td>\n",
       "      <td>12</td>\n",
       "    </tr>\n",
       "    <tr>\n",
       "      <th>4748</th>\n",
       "      <td>Tran HoàngDuong\\nscam</td>\n",
       "      <td>20</td>\n",
       "    </tr>\n",
       "  </tbody>\n",
       "</table>\n",
       "<p>4749 rows × 2 columns</p>\n",
       "</div>"
      ],
      "text/plain": [
       "                                                   text  length\n",
       "0     CHÚC MỪNG SINH VIÊN PTIT TỎA SÁNG VỚI BA GIẢI ...    2865\n",
       "1                                  Chúc mừng zai mẹ nhé      20\n",
       "2                             Xin chúc mừng các bạn trẻ      25\n",
       "3                     1 bữa lẩu ở iec nhé\\nNguyễn Trang      32\n",
       "4                     Nguyễn Trang\\nchờ quà hcm lâu quá      32\n",
       "...                                                 ...     ...\n",
       "4744                                             Đâu:)?       6\n",
       "4745                                       Hoang Anh\\n?      11\n",
       "4746                                           Chi Linh       8\n",
       "4747                                      Quynh Anh\\nok      12\n",
       "4748                              Tran HoàngDuong\\nscam      20\n",
       "\n",
       "[4749 rows x 2 columns]"
      ]
     },
     "execution_count": 5,
     "metadata": {},
     "output_type": "execute_result"
    }
   ],
   "source": [
    "comment_data = pd.read_csv(\"comment_data.csv\")\n",
    "comment_data"
   ]
  },
  {
   "cell_type": "markdown",
   "id": "bee4a6b5",
   "metadata": {},
   "source": [
    "Kiểm tra số lượng lượng nhãn xuất hiện trong bộ data có nhãn"
   ]
  },
  {
   "cell_type": "code",
   "execution_count": 6,
   "id": "ab85846c",
   "metadata": {},
   "outputs": [
    {
     "data": {
      "application/vnd.microsoft.datawrangler.viewer.v0+json": {
       "columns": [
        {
         "name": "label",
         "rawType": "int64",
         "type": "integer"
        },
        {
         "name": "count",
         "rawType": "int64",
         "type": "integer"
        }
       ],
       "ref": "cdff8497-c822-4d44-b106-dda4f933036a",
       "rows": [
        [
         "0",
         "1113"
        ],
        [
         "1",
         "547"
        ]
       ],
       "shape": {
        "columns": 1,
        "rows": 2
       }
      },
      "text/plain": [
       "label\n",
       "0    1113\n",
       "1     547\n",
       "Name: count, dtype: int64"
      ]
     },
     "execution_count": 6,
     "metadata": {},
     "output_type": "execute_result"
    }
   ],
   "source": [
    "data_have_label['label'].value_counts()"
   ]
  },
  {
   "cell_type": "markdown",
   "id": "066248b8",
   "metadata": {},
   "source": [
    "# 2. Tiền xử lý dữ liệu"
   ]
  },
  {
   "cell_type": "code",
   "execution_count": 7,
   "id": "cc572c03",
   "metadata": {},
   "outputs": [],
   "source": [
    "import numpy as np\n",
    "import pandas as pd\n",
    "import matplotlib\n",
    "import matplotlib.pyplot as plt\n",
    "import string\n",
    "import re\n",
    "import emoji\n",
    "\n",
    "import warnings\n",
    "warnings.filterwarnings(\"ignore\")\n",
    "\n",
    "from underthesea import word_tokenize, pos_tag, ner"
   ]
  },
  {
   "cell_type": "markdown",
   "id": "0191c8f6",
   "metadata": {},
   "source": [
    "Tạo ra các cột đặc trưng bao gồm:\n",
    "- Đếm số lượng emoji trong tin nhắn, số lượng mặt cười nhiều cũng khả năng là dấu hiệu của tin nhắn spam\n",
    "- Cột giá trị bool xem trong tin nhắn có email không\n",
    "- Cột bool xem trong tin nhắn có link url không\n",
    "- Cột đếm số lượng từ viết hoa full"
   ]
  },
  {
   "cell_type": "code",
   "execution_count": 8,
   "id": "06c7472c",
   "metadata": {},
   "outputs": [],
   "source": [
    "def count_emoji(text):\n",
    "    # Đếm Unicode emoji bằng thư viện\n",
    "    unicode_emojis = [c for c in text if c in emoji.EMOJI_DATA]\n",
    "    \n",
    "    # Đếm text emoji\n",
    "    text_emoji_pattern = re.compile(r'[:;=8xX][-~]?[)(DPpOo/\\\\]+')\n",
    "    text_emoji_count = len(text_emoji_pattern.findall(text))\n",
    "    \n",
    "    return len(unicode_emojis) + text_emoji_count\n",
    "\n",
    "def count_urls(text):\n",
    "    return len(re.findall(r'https?://\\S+|www\\.\\S+', text))\n",
    "\n",
    "def count_emails(text):\n",
    "    return len(re.findall(r'\\b[A-Za-z0-9._%+-]+@[A-Za-z0-9.-]+\\.[A-Z|a-z]{2,}\\b', text))\n",
    "\n",
    "def count_uppercase_words(text):\n",
    "    return len(re.findall(r'\\b[A-Z]{2,}\\b', text))\n",
    "\n",
    "def count_number(text):\n",
    "    return len(re.findall(r'\\d', text))\n",
    "\n",
    "def create_count_col(data, col_comment_name):\n",
    "\n",
    "    data = data.copy()\n",
    "    data['num_emoji'] = data[col_comment_name].apply(count_emoji)\n",
    "    data['num_email'] = data[col_comment_name].apply(count_emails)\n",
    "    data['num_link'] = data[col_comment_name].apply(count_urls)\n",
    "    data['num_upper'] = data[col_comment_name].apply(count_uppercase_words)\n",
    "    data['Count_num'] = data[col_comment_name].apply(count_number)\n",
    "\n",
    "    return data"
   ]
  },
  {
   "cell_type": "markdown",
   "id": "4f1042a9",
   "metadata": {},
   "source": [
    "Áp dụng pipeline thêm các cột mang thông tin của đoạn comment "
   ]
  },
  {
   "cell_type": "code",
   "execution_count": 9,
   "id": "cc4530df",
   "metadata": {},
   "outputs": [],
   "source": [
    "data_have_label = create_count_col(data_have_label, 'comment')\n",
    "comment_data = create_count_col(comment_data, 'text').drop(['length'], axis=1)"
   ]
  },
  {
   "cell_type": "code",
   "execution_count": 10,
   "id": "40fa8e2b",
   "metadata": {},
   "outputs": [
    {
     "data": {
      "application/vnd.microsoft.datawrangler.viewer.v0+json": {
       "columns": [
        {
         "name": "index",
         "rawType": "int64",
         "type": "integer"
        },
        {
         "name": "comment",
         "rawType": "object",
         "type": "string"
        },
        {
         "name": "label",
         "rawType": "int64",
         "type": "integer"
        },
        {
         "name": "num_emoji",
         "rawType": "int64",
         "type": "integer"
        },
        {
         "name": "num_email",
         "rawType": "int64",
         "type": "integer"
        },
        {
         "name": "num_link",
         "rawType": "int64",
         "type": "integer"
        },
        {
         "name": "num_upper",
         "rawType": "int64",
         "type": "integer"
        },
        {
         "name": "Count_num",
         "rawType": "int64",
         "type": "integer"
        }
       ],
       "ref": "64c058d3-57c5-4611-bfd6-249d0cc3f19e",
       "rows": [
        [
         "0",
         "Shop ơi có mẫu này size 38 không ạ? Dr cho mình xin giá với nhé.",
         "0",
         "0",
         "0",
         "0",
         "0",
         "2"
        ],
        [
         "1",
         "Nhận pass lại giáo trình Kinh tế vĩ mô, sách còn mới 99% chưa ghi chép gì. Giá 50k, ai cần ib.",
         "1",
         "0",
         "0",
         "0",
         "0",
         "4"
        ],
        [
         "2",
         "Clb guitar tuần này có buổi sinh hoạt không ad ơi?",
         "0",
         "0",
         "0",
         "0",
         "0",
         "0"
        ],
        [
         "3",
         "BẠN CÓ MUỐN KIẾM 300K MỖI NGÀY? Chỉ cần điện thoại và thời gian rảnh. Công việc đơn giản, không vốn, không lừa đảo. Liên hệ Zalo: 09xxyyzz",
         "1",
         "0",
         "0",
         "0",
         "0",
         "5"
        ],
        [
         "4",
         "Vcl quả drama mới. Con bé A cặp với thầy B á? Hóng link.",
         "0",
         "0",
         "0",
         "0",
         "0",
         "0"
        ]
       ],
       "shape": {
        "columns": 7,
        "rows": 5
       }
      },
      "text/html": [
       "<div>\n",
       "<style scoped>\n",
       "    .dataframe tbody tr th:only-of-type {\n",
       "        vertical-align: middle;\n",
       "    }\n",
       "\n",
       "    .dataframe tbody tr th {\n",
       "        vertical-align: top;\n",
       "    }\n",
       "\n",
       "    .dataframe thead th {\n",
       "        text-align: right;\n",
       "    }\n",
       "</style>\n",
       "<table border=\"1\" class=\"dataframe\">\n",
       "  <thead>\n",
       "    <tr style=\"text-align: right;\">\n",
       "      <th></th>\n",
       "      <th>comment</th>\n",
       "      <th>label</th>\n",
       "      <th>num_emoji</th>\n",
       "      <th>num_email</th>\n",
       "      <th>num_link</th>\n",
       "      <th>num_upper</th>\n",
       "      <th>Count_num</th>\n",
       "    </tr>\n",
       "  </thead>\n",
       "  <tbody>\n",
       "    <tr>\n",
       "      <th>0</th>\n",
       "      <td>Shop ơi có mẫu này size 38 không ạ? Dr cho mìn...</td>\n",
       "      <td>0</td>\n",
       "      <td>0</td>\n",
       "      <td>0</td>\n",
       "      <td>0</td>\n",
       "      <td>0</td>\n",
       "      <td>2</td>\n",
       "    </tr>\n",
       "    <tr>\n",
       "      <th>1</th>\n",
       "      <td>Nhận pass lại giáo trình Kinh tế vĩ mô, sách c...</td>\n",
       "      <td>1</td>\n",
       "      <td>0</td>\n",
       "      <td>0</td>\n",
       "      <td>0</td>\n",
       "      <td>0</td>\n",
       "      <td>4</td>\n",
       "    </tr>\n",
       "    <tr>\n",
       "      <th>2</th>\n",
       "      <td>Clb guitar tuần này có buổi sinh hoạt không ad...</td>\n",
       "      <td>0</td>\n",
       "      <td>0</td>\n",
       "      <td>0</td>\n",
       "      <td>0</td>\n",
       "      <td>0</td>\n",
       "      <td>0</td>\n",
       "    </tr>\n",
       "    <tr>\n",
       "      <th>3</th>\n",
       "      <td>BẠN CÓ MUỐN KIẾM 300K MỖI NGÀY? Chỉ cần điện t...</td>\n",
       "      <td>1</td>\n",
       "      <td>0</td>\n",
       "      <td>0</td>\n",
       "      <td>0</td>\n",
       "      <td>0</td>\n",
       "      <td>5</td>\n",
       "    </tr>\n",
       "    <tr>\n",
       "      <th>4</th>\n",
       "      <td>Vcl quả drama mới. Con bé A cặp với thầy B á? ...</td>\n",
       "      <td>0</td>\n",
       "      <td>0</td>\n",
       "      <td>0</td>\n",
       "      <td>0</td>\n",
       "      <td>0</td>\n",
       "      <td>0</td>\n",
       "    </tr>\n",
       "  </tbody>\n",
       "</table>\n",
       "</div>"
      ],
      "text/plain": [
       "                                             comment  label  num_emoji  \\\n",
       "0  Shop ơi có mẫu này size 38 không ạ? Dr cho mìn...      0          0   \n",
       "1  Nhận pass lại giáo trình Kinh tế vĩ mô, sách c...      1          0   \n",
       "2  Clb guitar tuần này có buổi sinh hoạt không ad...      0          0   \n",
       "3  BẠN CÓ MUỐN KIẾM 300K MỖI NGÀY? Chỉ cần điện t...      1          0   \n",
       "4  Vcl quả drama mới. Con bé A cặp với thầy B á? ...      0          0   \n",
       "\n",
       "   num_email  num_link  num_upper  Count_num  \n",
       "0          0         0          0          2  \n",
       "1          0         0          0          4  \n",
       "2          0         0          0          0  \n",
       "3          0         0          0          5  \n",
       "4          0         0          0          0  "
      ]
     },
     "execution_count": 10,
     "metadata": {},
     "output_type": "execute_result"
    }
   ],
   "source": [
    "data_have_label.head()"
   ]
  },
  {
   "cell_type": "markdown",
   "id": "1739b131",
   "metadata": {},
   "source": [
    "Pipeline tiền xử lý dữ liệu"
   ]
  },
  {
   "cell_type": "code",
   "execution_count": 11,
   "id": "d8fa7361",
   "metadata": {},
   "outputs": [],
   "source": [
    "def lowercase(text):\n",
    "    # Đưa về viết thường\n",
    "    return text.lower()\n",
    "\n",
    "def remove_urls(text):\n",
    "    \"\"\"Loại bỏ các link URL\"\"\"\n",
    "    # Loại bỏ http/https links\n",
    "    text = re.sub(r'http\\S+|www\\.\\S+', '', text)\n",
    "    # Loại bỏ các link dạng domain.com\n",
    "    text = re.sub(r'\\S+\\.(com|vn|net|org|edu|gov)\\S*', '', text)\n",
    "    return text\n",
    "\n",
    "def remove_emails(text):\n",
    "    \"\"\"Loại bỏ email (thường có trong spam)\"\"\"\n",
    "    return re.sub(r'\\S+@\\S+', '', text)\n",
    "\n",
    "def punctuation_removal(text):\n",
    "    # Loại bỏ các dấu câu\n",
    "    translator = str.maketrans('', '', string.punctuation)\n",
    "    return text.translate(translator) \n",
    "\n",
    "def remove_number(text):\n",
    "    return re.sub(r'\\d+', '', text)\n",
    "\n",
    "def remove_emoji(text):\n",
    "    # Loại bỏ Unicode emoji (😂🎉💰 etc.) bằng thư viện emoji\n",
    "    text = emoji.replace_emoji(text, replace='')\n",
    "    \n",
    "    # Loại bỏ text-based emoji (:D :) :P etc.)\n",
    "    text = re.sub(r'[:;=8xX][-~]?[)(DPpOo/\\\\]+', '', text)\n",
    "    \n",
    "    return text\n",
    "\n",
    "def normalize_abbreviations(text):\n",
    "    # Chuẩn hóa viết tắt\n",
    "    words = word_tokenize(text)\n",
    "    nor_text = []\n",
    "    for word in words:\n",
    "        if word in vietnamese_teen_slang.keys():\n",
    "            nor_text.append(vietnamese_teen_slang[word])\n",
    "        else:\n",
    "            nor_text.append(word)\n",
    "    return ' '.join(nor_text)\n",
    "\n",
    "def remove_repeated_chars(text):\n",
    "    # Thay thế ký tự lặp như \"vậyyyy\" thành \"vậy\", nhược điểm là với từ như \"pass\" sẽ thành \"pas\"\n",
    "    return re.sub(r'(.)\\1+', r'\\1', text)\n",
    "\n",
    "def remove_stopword(text):\n",
    "    # Loại bỏ tử dừng\n",
    "    words = word_tokenize(text)\n",
    "    return ' '.join([word for word in words if word not in vietnamese_stopwords])\n",
    "\n",
    "def pipeline_preprocess(text):\n",
    "    # Gộp chung vào 1 pipeline\n",
    "    text = lowercase(text)\n",
    "    text = remove_urls(text)         \n",
    "    text = remove_emails(text) \n",
    "    text = punctuation_removal(text)\n",
    "    text = remove_number(text)\n",
    "    text = remove_emoji(text)\n",
    "    text = normalize_abbreviations(text)\n",
    "    text = remove_repeated_chars(text)\n",
    "    text = remove_stopword(text)\n",
    "    return text\n"
   ]
  },
  {
   "cell_type": "markdown",
   "id": "8b4bbab2",
   "metadata": {},
   "source": [
    "Khối tiền xử lý, xóa các comment quá dài"
   ]
  },
  {
   "cell_type": "code",
   "execution_count": 12,
   "id": "2df3b1eb",
   "metadata": {},
   "outputs": [],
   "source": [
    "def preprocess_data(data):\n",
    "    \"\"\"Hàm tiền xử lý cho dữ liệu cho trước\n",
    "    Args:\n",
    "      - data: Input data đã cho trước\n",
    "    Returns:\n",
    "      - Data đã qua tiền xử lý\n",
    "    \"\"\"\n",
    "    \n",
    "\n",
    "    data = data.copy()\n",
    "    first_column = data.columns[0]\n",
    "\n",
    "\n",
    "    \"\"\"\n",
    "    - Xóa bỏ các sample có số từ word lớn hơn 100 (tức là bài đăng hoặc quá dài)\n",
    "    Làm tăng thêm chiều, giảm tốc độ học của mô hình\n",
    "    - Xỏa bỏ các sample có số từ bé hơn 3 vì có khả năng là tag tên nhau\"\"\"\n",
    "\n",
    "    data = data[[len(i.split()) < 100 for i in data[first_column]]]\n",
    "    data = data[[len(i.split()) > 2 for i in data[first_column]]]\n",
    "\n",
    "    data[first_column] = data[first_column].apply(pipeline_preprocess)\n",
    "\n",
    "    data = data.reset_index(drop=True)\n",
    "\n",
    "    return data"
   ]
  },
  {
   "cell_type": "code",
   "execution_count": 13,
   "id": "0377beb3",
   "metadata": {},
   "outputs": [],
   "source": [
    "data_pre = preprocess_data(data_have_label)\n",
    "X_n = preprocess_data(comment_data)"
   ]
  },
  {
   "cell_type": "code",
   "execution_count": 14,
   "id": "f13d57f1",
   "metadata": {},
   "outputs": [
    {
     "data": {
      "application/vnd.microsoft.datawrangler.viewer.v0+json": {
       "columns": [
        {
         "name": "index",
         "rawType": "int64",
         "type": "integer"
        },
        {
         "name": "comment",
         "rawType": "object",
         "type": "string"
        },
        {
         "name": "label",
         "rawType": "int64",
         "type": "integer"
        },
        {
         "name": "num_emoji",
         "rawType": "int64",
         "type": "integer"
        },
        {
         "name": "num_email",
         "rawType": "int64",
         "type": "integer"
        },
        {
         "name": "num_link",
         "rawType": "int64",
         "type": "integer"
        },
        {
         "name": "num_upper",
         "rawType": "int64",
         "type": "integer"
        },
        {
         "name": "Count_num",
         "rawType": "int64",
         "type": "integer"
        }
       ],
       "ref": "d984087f-83d8-47d3-a3fc-3ba96aa27897",
       "rows": [
        [
         "0",
         "shop có mẫu size không dr xin giá",
         "0",
         "0",
         "0",
         "0",
         "0",
         "2"
        ],
        [
         "1",
         "nhận pas giáo trình kinh tế vĩ mô sách chưa ghi chép giá không cần ib",
         "1",
         "0",
         "0",
         "0",
         "0",
         "4"
        ],
        [
         "2",
         "clb guitar tuần có buổi sinh hoạt không ad",
         "0",
         "0",
         "0",
         "0",
         "0",
         "0"
        ],
        [
         "3",
         "có muốn kiếm không ngày cần điện thoại thời gian rảnh đơn giản không vốn không lừa đảo liên hệ zalo xyz",
         "1",
         "0",
         "0",
         "0",
         "0",
         "5"
        ],
        [
         "4",
         "vãi lồn drama con bé a cặp thầy á hóng link",
         "0",
         "0",
         "0",
         "0",
         "0",
         "0"
        ],
        [
         "5",
         "cần tìm học chung ielts mục tiêu ở khu vực cầu giấy",
         "0",
         "0",
         "0",
         "0",
         "0",
         "2"
        ],
        [
         "6",
         "thanh lý đồ dùng sinh viên bàn học giá sách nồi cơm điện đồng giá không trường pas rẻ",
         "1",
         "0",
         "0",
         "0",
         "0",
         "3"
        ],
        [
         "7",
         "đứa có biết pas wifi thư viện không",
         "0",
         "0",
         "0",
         "0",
         "0",
         "0"
        ],
        [
         "8",
         "chuyên nhận làm asignment thesis đảm bảo môn điểm uy tín bảo mật info",
         "1",
         "0",
         "0",
         "0",
         "0",
         "0"
        ],
        [
         "9",
         "nói học ngành trường không biết làm luôn á",
         "0",
         "0",
         "0",
         "0",
         "0",
         "0"
        ],
        [
         "10",
         "ảnh nhìn pts thế nhỉ",
         "0",
         "0",
         "0",
         "0",
         "0",
         "0"
        ],
        [
         "11",
         "xả kho cuối laptop gaming giảm sốc freship toàn quốc check ngay link bio",
         "1",
         "2",
         "0",
         "0",
         "4",
         "2"
        ],
        [
         "12",
         "thầy dạy môn chán vãi lồn buồn ngủ chết",
         "0",
         "0",
         "0",
         "0",
         "0",
         "0"
        ],
        [
         "13",
         "có biết chỗ ăn bufet lẩu nướng ngon bổ rẻ sv không",
         "0",
         "0",
         "0",
         "0",
         "0",
         "0"
        ],
        [
         "14",
         "rớt môn gdtc đội",
         "0",
         "1",
         "0",
         "0",
         "1",
         "0"
        ],
        [
         "15",
         "tuyển nữ làm pg sự kiện ngoại hình ưa nhìn cao mày lương kngày",
         "1",
         "0",
         "0",
         "0",
         "1",
         "8"
        ],
        [
         "16",
         "địt mẹ mạng ktx c load mãi không ng",
         "0",
         "1",
         "0",
         "0",
         "0",
         "0"
        ],
        [
         "17",
         "có info nam mặc áo hodie đen ngồi bàn đầu lớp triết nay không",
         "0",
         "0",
         "0",
         "0",
         "0",
         "0"
        ],
        [
         "18",
         "liệu trình da trắng bật tông mờ thâm nám cam kết hoàn tiền không hiệu quả ib tư vấn",
         "1",
         "0",
         "0",
         "0",
         "0",
         "1"
        ],
        [
         "19",
         "hỏi học phí trường kỳ tăng ấy",
         "0",
         "0",
         "0",
         "0",
         "0",
         "0"
        ],
        [
         "20",
         "đăng ký học ở đâu chúng mày",
         "0",
         "0",
         "0",
         "0",
         "0",
         "0"
        ],
        [
         "21",
         "tìm việc làm thêm không quán trà chanh gần trường cần",
         "0",
         "0",
         "0",
         "0",
         "0",
         "0"
        ],
        [
         "22",
         "vay tiền online không gặp mặt có tiền phút cần cmndcd lãi suất nhất thị trường",
         "1",
         "0",
         "0",
         "0",
         "5",
         "1"
        ],
        [
         "23",
         "copy mạng chứ sáng tạo cặc",
         "0",
         "0",
         "0",
         "0",
         "0",
         "0"
        ],
        [
         "24",
         "có tài khoản chatgpt plus không dùng ké",
         "0",
         "0",
         "0",
         "0",
         "0",
         "0"
        ],
        [
         "25",
         "nhận order đồ ăn vặt hàn quốc nay chốt đơn",
         "1",
         "0",
         "0",
         "0",
         "0",
         "0"
        ],
        [
         "26",
         "học bổng trường yêu cầu gpa",
         "0",
         "0",
         "0",
         "0",
         "1",
         "0"
        ],
        [
         "27",
         "báo team game afk",
         "0",
         "0",
         "0",
         "0",
         "0",
         "0"
        ],
        [
         "28",
         "cần pas gấp iphone lock máy ngon pin giá tr có fix",
         "1",
         "0",
         "0",
         "0",
         "0",
         "5"
        ],
        [
         "29",
         "mai thi giờ chữ chưa đầu toang",
         "0",
         "0",
         "0",
         "0",
         "0",
         "0"
        ],
        [
         "30",
         "ad duyệt lừa mất không tiền cọc phòng trọ muốn cảnh báo",
         "0",
         "0",
         "0",
         "0",
         "0",
         "3"
        ],
        [
         "31",
         "cần tìm người yêu chơi noel dr fa lâu",
         "0",
         "0",
         "0",
         "0",
         "1",
         "0"
        ],
        [
         "32",
         "cung cấp tài khoản netflix youtube premium giá rẻ bảo hành suốt thời gian sử dụng",
         "1",
         "0",
         "0",
         "0",
         "4",
         "0"
        ],
        [
         "33",
         "thư viện cày deadline",
         "0",
         "0",
         "0",
         "0",
         "0",
         "0"
        ],
        [
         "34",
         "ngu chết chứ bệnh tật",
         "0",
         "0",
         "0",
         "0",
         "0",
         "0"
        ],
        [
         "35",
         "tham gia group chia sẻ tài liệu học tập fre sv link ở bio",
         "1",
         "0",
         "0",
         "0",
         "0",
         "0"
        ],
        [
         "36",
         "có xe bus không hỏi giờ có chuyến cuối",
         "0",
         "0",
         "0",
         "0",
         "0",
         "2"
        ],
        [
         "37",
         "góc tìm đồ có làm rơi thẻ sinh viên ở căng tin nhặt xin",
         "0",
         "0",
         "0",
         "0",
         "0",
         "1"
        ],
        [
         "38",
         "tuyển mẫu nail học viên fre nhanh tay đặt lịch kẻo hết slot",
         "1",
         "0",
         "0",
         "0",
         "0",
         "3"
        ],
        [
         "39",
         "idol đẹp trai",
         "0",
         "0",
         "0",
         "0",
         "0",
         "0"
        ],
        [
         "40",
         "chỗ gửi xe có an toàn không",
         "0",
         "0",
         "0",
         "0",
         "0",
         "0"
        ],
        [
         "41",
         "bán data khách hàng tiềm năng phù hợp các sale giá rẻ",
         "1",
         "0",
         "0",
         "0",
         "0",
         "4"
        ],
        [
         "42",
         "học ng cảm thấy mông lung",
         "0",
         "1",
         "0",
         "0",
         "0",
         "1"
        ],
        [
         "43",
         "đứa có link xem phim ful hd không",
         "0",
         "0",
         "0",
         "0",
         "1",
         "0"
        ],
        [
         "44",
         "bí kíp đạt toeic tháng tài liệu độc quyền cam kết đầu ra inbox nhận ngay",
         "1",
         "0",
         "0",
         "0",
         "2",
         "4"
        ],
        [
         "45",
         "môn có dùng tài liệu thi không nhỉ",
         "0",
         "0",
         "0",
         "0",
         "0",
         "0"
        ],
        [
         "46",
         "cmt like tỏ tình thích",
         "0",
         "0",
         "0",
         "0",
         "0",
         "3"
        ],
        [
         "47",
         "cần thuê trọ gần trường liên hệ chính chủ không trung gian",
         "1",
         "0",
         "0",
         "0",
         "0",
         "0"
        ],
        [
         "48",
         "học mẹ gọi hỏi có cần tiền không hạnh phúc giản đơn",
         "0",
         "0",
         "0",
         "0",
         "0",
         "0"
        ],
        [
         "49",
         "logic cặc nói",
         "0",
         "0",
         "0",
         "0",
         "0",
         "0"
        ]
       ],
       "shape": {
        "columns": 7,
        "rows": 1660
       }
      },
      "text/html": [
       "<div>\n",
       "<style scoped>\n",
       "    .dataframe tbody tr th:only-of-type {\n",
       "        vertical-align: middle;\n",
       "    }\n",
       "\n",
       "    .dataframe tbody tr th {\n",
       "        vertical-align: top;\n",
       "    }\n",
       "\n",
       "    .dataframe thead th {\n",
       "        text-align: right;\n",
       "    }\n",
       "</style>\n",
       "<table border=\"1\" class=\"dataframe\">\n",
       "  <thead>\n",
       "    <tr style=\"text-align: right;\">\n",
       "      <th></th>\n",
       "      <th>comment</th>\n",
       "      <th>label</th>\n",
       "      <th>num_emoji</th>\n",
       "      <th>num_email</th>\n",
       "      <th>num_link</th>\n",
       "      <th>num_upper</th>\n",
       "      <th>Count_num</th>\n",
       "    </tr>\n",
       "  </thead>\n",
       "  <tbody>\n",
       "    <tr>\n",
       "      <th>0</th>\n",
       "      <td>shop có mẫu size không dr xin giá</td>\n",
       "      <td>0</td>\n",
       "      <td>0</td>\n",
       "      <td>0</td>\n",
       "      <td>0</td>\n",
       "      <td>0</td>\n",
       "      <td>2</td>\n",
       "    </tr>\n",
       "    <tr>\n",
       "      <th>1</th>\n",
       "      <td>nhận pas giáo trình kinh tế vĩ mô sách chưa gh...</td>\n",
       "      <td>1</td>\n",
       "      <td>0</td>\n",
       "      <td>0</td>\n",
       "      <td>0</td>\n",
       "      <td>0</td>\n",
       "      <td>4</td>\n",
       "    </tr>\n",
       "    <tr>\n",
       "      <th>2</th>\n",
       "      <td>clb guitar tuần có buổi sinh hoạt không ad</td>\n",
       "      <td>0</td>\n",
       "      <td>0</td>\n",
       "      <td>0</td>\n",
       "      <td>0</td>\n",
       "      <td>0</td>\n",
       "      <td>0</td>\n",
       "    </tr>\n",
       "    <tr>\n",
       "      <th>3</th>\n",
       "      <td>có muốn kiếm không ngày cần điện thoại thời gi...</td>\n",
       "      <td>1</td>\n",
       "      <td>0</td>\n",
       "      <td>0</td>\n",
       "      <td>0</td>\n",
       "      <td>0</td>\n",
       "      <td>5</td>\n",
       "    </tr>\n",
       "    <tr>\n",
       "      <th>4</th>\n",
       "      <td>vãi lồn drama con bé a cặp thầy á hóng link</td>\n",
       "      <td>0</td>\n",
       "      <td>0</td>\n",
       "      <td>0</td>\n",
       "      <td>0</td>\n",
       "      <td>0</td>\n",
       "      <td>0</td>\n",
       "    </tr>\n",
       "    <tr>\n",
       "      <th>...</th>\n",
       "      <td>...</td>\n",
       "      <td>...</td>\n",
       "      <td>...</td>\n",
       "      <td>...</td>\n",
       "      <td>...</td>\n",
       "      <td>...</td>\n",
       "      <td>...</td>\n",
       "    </tr>\n",
       "    <tr>\n",
       "      <th>1655</th>\n",
       "      <td>main bộ phim ngu lồn vãi lồn xem</td>\n",
       "      <td>0</td>\n",
       "      <td>0</td>\n",
       "      <td>0</td>\n",
       "      <td>0</td>\n",
       "      <td>0</td>\n",
       "      <td>0</td>\n",
       "    </tr>\n",
       "    <tr>\n",
       "      <th>1656</th>\n",
       "      <td>có biết cách stream phim laptop tv không</td>\n",
       "      <td>0</td>\n",
       "      <td>0</td>\n",
       "      <td>0</td>\n",
       "      <td>0</td>\n",
       "      <td>1</td>\n",
       "      <td>0</td>\n",
       "    </tr>\n",
       "    <tr>\n",
       "      <th>1657</th>\n",
       "      <td>bán tài khoản vip các trang học tiếng phim ejo...</td>\n",
       "      <td>1</td>\n",
       "      <td>0</td>\n",
       "      <td>0</td>\n",
       "      <td>0</td>\n",
       "      <td>1</td>\n",
       "      <td>0</td>\n",
       "    </tr>\n",
       "    <tr>\n",
       "      <th>1658</th>\n",
       "      <td>có biết quán cafe phim ở hà nội không</td>\n",
       "      <td>0</td>\n",
       "      <td>0</td>\n",
       "      <td>0</td>\n",
       "      <td>0</td>\n",
       "      <td>0</td>\n",
       "      <td>0</td>\n",
       "    </tr>\n",
       "    <tr>\n",
       "      <th>1659</th>\n",
       "      <td>pas laptop gaming cần tiền mua máy ảnh máy cấu...</td>\n",
       "      <td>0</td>\n",
       "      <td>1</td>\n",
       "      <td>0</td>\n",
       "      <td>0</td>\n",
       "      <td>1</td>\n",
       "      <td>7</td>\n",
       "    </tr>\n",
       "  </tbody>\n",
       "</table>\n",
       "<p>1660 rows × 7 columns</p>\n",
       "</div>"
      ],
      "text/plain": [
       "                                                comment  label  num_emoji  \\\n",
       "0                     shop có mẫu size không dr xin giá      0          0   \n",
       "1     nhận pas giáo trình kinh tế vĩ mô sách chưa gh...      1          0   \n",
       "2            clb guitar tuần có buổi sinh hoạt không ad      0          0   \n",
       "3     có muốn kiếm không ngày cần điện thoại thời gi...      1          0   \n",
       "4           vãi lồn drama con bé a cặp thầy á hóng link      0          0   \n",
       "...                                                 ...    ...        ...   \n",
       "1655                   main bộ phim ngu lồn vãi lồn xem      0          0   \n",
       "1656           có biết cách stream phim laptop tv không      0          0   \n",
       "1657  bán tài khoản vip các trang học tiếng phim ejo...      1          0   \n",
       "1658              có biết quán cafe phim ở hà nội không      0          0   \n",
       "1659  pas laptop gaming cần tiền mua máy ảnh máy cấu...      0          1   \n",
       "\n",
       "      num_email  num_link  num_upper  Count_num  \n",
       "0             0         0          0          2  \n",
       "1             0         0          0          4  \n",
       "2             0         0          0          0  \n",
       "3             0         0          0          5  \n",
       "4             0         0          0          0  \n",
       "...         ...       ...        ...        ...  \n",
       "1655          0         0          0          0  \n",
       "1656          0         0          1          0  \n",
       "1657          0         0          1          0  \n",
       "1658          0         0          0          0  \n",
       "1659          0         0          1          7  \n",
       "\n",
       "[1660 rows x 7 columns]"
      ]
     },
     "execution_count": 14,
     "metadata": {},
     "output_type": "execute_result"
    }
   ],
   "source": [
    "data_pre"
   ]
  },
  {
   "cell_type": "markdown",
   "id": "1303c9e2",
   "metadata": {},
   "source": [
    "## 2.1. Vector hóa cho cột chứa comment bằng các chiến lược"
   ]
  },
  {
   "cell_type": "code",
   "execution_count": 15,
   "id": "6e2a9189",
   "metadata": {},
   "outputs": [],
   "source": [
    "from sklearn.feature_extraction.text import CountVectorizer, TfidfVectorizer\n",
    "from sklearn.model_selection import train_test_split"
   ]
  },
  {
   "cell_type": "code",
   "execution_count": 16,
   "id": "c3f21228",
   "metadata": {},
   "outputs": [
    {
     "data": {
      "application/vnd.microsoft.datawrangler.viewer.v0+json": {
       "columns": [
        {
         "name": "index",
         "rawType": "int64",
         "type": "integer"
        },
        {
         "name": "comment",
         "rawType": "object",
         "type": "string"
        },
        {
         "name": "label",
         "rawType": "int64",
         "type": "integer"
        },
        {
         "name": "num_emoji",
         "rawType": "int64",
         "type": "integer"
        },
        {
         "name": "num_email",
         "rawType": "int64",
         "type": "integer"
        },
        {
         "name": "num_link",
         "rawType": "int64",
         "type": "integer"
        },
        {
         "name": "num_upper",
         "rawType": "int64",
         "type": "integer"
        },
        {
         "name": "Count_num",
         "rawType": "int64",
         "type": "integer"
        }
       ],
       "ref": "24443592-4742-4540-83fe-73668090748f",
       "rows": [
        [
         "0",
         "shop có mẫu size không dr xin giá",
         "0",
         "0",
         "0",
         "0",
         "0",
         "2"
        ],
        [
         "1",
         "nhận pas giáo trình kinh tế vĩ mô sách chưa ghi chép giá không cần ib",
         "1",
         "0",
         "0",
         "0",
         "0",
         "4"
        ],
        [
         "2",
         "clb guitar tuần có buổi sinh hoạt không ad",
         "0",
         "0",
         "0",
         "0",
         "0",
         "0"
        ],
        [
         "3",
         "có muốn kiếm không ngày cần điện thoại thời gian rảnh đơn giản không vốn không lừa đảo liên hệ zalo xyz",
         "1",
         "0",
         "0",
         "0",
         "0",
         "5"
        ],
        [
         "4",
         "vãi lồn drama con bé a cặp thầy á hóng link",
         "0",
         "0",
         "0",
         "0",
         "0",
         "0"
        ]
       ],
       "shape": {
        "columns": 7,
        "rows": 5
       }
      },
      "text/html": [
       "<div>\n",
       "<style scoped>\n",
       "    .dataframe tbody tr th:only-of-type {\n",
       "        vertical-align: middle;\n",
       "    }\n",
       "\n",
       "    .dataframe tbody tr th {\n",
       "        vertical-align: top;\n",
       "    }\n",
       "\n",
       "    .dataframe thead th {\n",
       "        text-align: right;\n",
       "    }\n",
       "</style>\n",
       "<table border=\"1\" class=\"dataframe\">\n",
       "  <thead>\n",
       "    <tr style=\"text-align: right;\">\n",
       "      <th></th>\n",
       "      <th>comment</th>\n",
       "      <th>label</th>\n",
       "      <th>num_emoji</th>\n",
       "      <th>num_email</th>\n",
       "      <th>num_link</th>\n",
       "      <th>num_upper</th>\n",
       "      <th>Count_num</th>\n",
       "    </tr>\n",
       "  </thead>\n",
       "  <tbody>\n",
       "    <tr>\n",
       "      <th>0</th>\n",
       "      <td>shop có mẫu size không dr xin giá</td>\n",
       "      <td>0</td>\n",
       "      <td>0</td>\n",
       "      <td>0</td>\n",
       "      <td>0</td>\n",
       "      <td>0</td>\n",
       "      <td>2</td>\n",
       "    </tr>\n",
       "    <tr>\n",
       "      <th>1</th>\n",
       "      <td>nhận pas giáo trình kinh tế vĩ mô sách chưa gh...</td>\n",
       "      <td>1</td>\n",
       "      <td>0</td>\n",
       "      <td>0</td>\n",
       "      <td>0</td>\n",
       "      <td>0</td>\n",
       "      <td>4</td>\n",
       "    </tr>\n",
       "    <tr>\n",
       "      <th>2</th>\n",
       "      <td>clb guitar tuần có buổi sinh hoạt không ad</td>\n",
       "      <td>0</td>\n",
       "      <td>0</td>\n",
       "      <td>0</td>\n",
       "      <td>0</td>\n",
       "      <td>0</td>\n",
       "      <td>0</td>\n",
       "    </tr>\n",
       "    <tr>\n",
       "      <th>3</th>\n",
       "      <td>có muốn kiếm không ngày cần điện thoại thời gi...</td>\n",
       "      <td>1</td>\n",
       "      <td>0</td>\n",
       "      <td>0</td>\n",
       "      <td>0</td>\n",
       "      <td>0</td>\n",
       "      <td>5</td>\n",
       "    </tr>\n",
       "    <tr>\n",
       "      <th>4</th>\n",
       "      <td>vãi lồn drama con bé a cặp thầy á hóng link</td>\n",
       "      <td>0</td>\n",
       "      <td>0</td>\n",
       "      <td>0</td>\n",
       "      <td>0</td>\n",
       "      <td>0</td>\n",
       "      <td>0</td>\n",
       "    </tr>\n",
       "  </tbody>\n",
       "</table>\n",
       "</div>"
      ],
      "text/plain": [
       "                                             comment  label  num_emoji  \\\n",
       "0                  shop có mẫu size không dr xin giá      0          0   \n",
       "1  nhận pas giáo trình kinh tế vĩ mô sách chưa gh...      1          0   \n",
       "2         clb guitar tuần có buổi sinh hoạt không ad      0          0   \n",
       "3  có muốn kiếm không ngày cần điện thoại thời gi...      1          0   \n",
       "4        vãi lồn drama con bé a cặp thầy á hóng link      0          0   \n",
       "\n",
       "   num_email  num_link  num_upper  Count_num  \n",
       "0          0         0          0          2  \n",
       "1          0         0          0          4  \n",
       "2          0         0          0          0  \n",
       "3          0         0          0          5  \n",
       "4          0         0          0          0  "
      ]
     },
     "execution_count": 16,
     "metadata": {},
     "output_type": "execute_result"
    }
   ],
   "source": [
    "data_pre.head()"
   ]
  },
  {
   "cell_type": "markdown",
   "id": "f5505844",
   "metadata": {},
   "source": [
    "Chia dataset"
   ]
  },
  {
   "cell_type": "code",
   "execution_count": 17,
   "id": "81d6acb7",
   "metadata": {},
   "outputs": [],
   "source": [
    "X_train_l, X_test_l, y_train_l, y_test_l = train_test_split(\n",
    "    data_pre.drop(['label'], axis=1), \n",
    "    data_pre['label'], \n",
    "    test_size=0.2, \n",
    "    random_state=42,\n",
    "    stratify=data_pre['label']\n",
    ")"
   ]
  },
  {
   "cell_type": "code",
   "execution_count": 18,
   "id": "618c4f79",
   "metadata": {},
   "outputs": [
    {
     "data": {
      "application/vnd.microsoft.datawrangler.viewer.v0+json": {
       "columns": [
        {
         "name": "label",
         "rawType": "int64",
         "type": "integer"
        },
        {
         "name": "count",
         "rawType": "int64",
         "type": "integer"
        }
       ],
       "ref": "607088a7-b0ed-4947-ac54-293c8a9c4748",
       "rows": [
        [
         "0",
         "890"
        ],
        [
         "1",
         "438"
        ]
       ],
       "shape": {
        "columns": 1,
        "rows": 2
       }
      },
      "text/plain": [
       "label\n",
       "0    890\n",
       "1    438\n",
       "Name: count, dtype: int64"
      ]
     },
     "execution_count": 18,
     "metadata": {},
     "output_type": "execute_result"
    }
   ],
   "source": [
    "y_train_l.value_counts()"
   ]
  },
  {
   "cell_type": "code",
   "execution_count": 19,
   "id": "8eaff9a5",
   "metadata": {},
   "outputs": [
    {
     "data": {
      "application/vnd.microsoft.datawrangler.viewer.v0+json": {
       "columns": [
        {
         "name": "label",
         "rawType": "int64",
         "type": "integer"
        },
        {
         "name": "count",
         "rawType": "int64",
         "type": "integer"
        }
       ],
       "ref": "655e52ac-6002-4abc-afd2-a584da5bc352",
       "rows": [
        [
         "0",
         "223"
        ],
        [
         "1",
         "109"
        ]
       ],
       "shape": {
        "columns": 1,
        "rows": 2
       }
      },
      "text/plain": [
       "label\n",
       "0    223\n",
       "1    109\n",
       "Name: count, dtype: int64"
      ]
     },
     "execution_count": 19,
     "metadata": {},
     "output_type": "execute_result"
    }
   ],
   "source": [
    "y_test_l.value_counts()"
   ]
  },
  {
   "cell_type": "markdown",
   "id": "d761b5d7",
   "metadata": {},
   "source": [
    "Tạo data Bow / Tfidf / embedding"
   ]
  },
  {
   "cell_type": "code",
   "execution_count": 20,
   "id": "835fec71",
   "metadata": {},
   "outputs": [
    {
     "data": {
      "application/vnd.microsoft.datawrangler.viewer.v0+json": {
       "columns": [
        {
         "name": "index",
         "rawType": "int64",
         "type": "integer"
        },
        {
         "name": "comment",
         "rawType": "object",
         "type": "string"
        },
        {
         "name": "num_emoji",
         "rawType": "int64",
         "type": "integer"
        },
        {
         "name": "num_email",
         "rawType": "int64",
         "type": "integer"
        },
        {
         "name": "num_link",
         "rawType": "int64",
         "type": "integer"
        },
        {
         "name": "num_upper",
         "rawType": "int64",
         "type": "integer"
        },
        {
         "name": "Count_num",
         "rawType": "int64",
         "type": "integer"
        }
       ],
       "ref": "18a2717e-f071-4403-8a66-5d65ca068541",
       "rows": [
        [
         "438",
         "đứa có link xem the voice tối qua không",
         "0",
         "0",
         "0",
         "0",
         "0"
        ],
        [
         "229",
         "địt mẹ đứa lấy trộm sạc dự phòng",
         "0",
         "0",
         "0",
         "0",
         "0"
        ],
        [
         "293",
         "dịch vụ sms banking xác nhận otp tạo tài khoản ảo nhanh chóng bảo mật ib biết thêm chi tiết",
         "0",
         "0",
         "0",
         "2",
         "0"
        ],
        [
         "5",
         "cần tìm học chung ielts mục tiêu ở khu vực cầu giấy",
         "0",
         "0",
         "0",
         "0",
         "2"
        ],
        [
         "16",
         "địt mẹ mạng ktx c load mãi không ng",
         "1",
         "0",
         "0",
         "0",
         "0"
        ],
        [
         "783",
         "đứa xe đạp không khóa ở nhà xe g cẩn thận mất",
         "0",
         "0",
         "0",
         "0",
         "0"
        ],
        [
         "288",
         "căng tin có món không chúng mày",
         "0",
         "0",
         "0",
         "0",
         "0"
        ],
        [
         "1210",
         "có xem lễ hội âm nhạc monson không lập team chung",
         "0",
         "0",
         "0",
         "0",
         "0"
        ],
        [
         "1461",
         "yếu sinh lý vợ chê thuốc cường dương thảo dược an toàn hiệu quả giúp lấy bản lĩnh kín đáo dr ngay",
         "1",
         "0",
         "0",
         "1",
         "0"
        ],
        [
         "1339",
         "thủ tục xin cấp thẻ sinh viên mất có phức tạp không",
         "0",
         "0",
         "0",
         "0",
         "0"
        ],
        [
         "1329",
         "phòng ở bẩn lợn bát đũa ăn ng đéo rửa tởm vãi lồn",
         "1",
         "0",
         "0",
         "0",
         "0"
        ],
        [
         "693",
         "thích trả lời tin nhắn nay mất ngủ",
         "1",
         "0",
         "0",
         "0",
         "0"
        ],
        [
         "345",
         "thầy x dạy môn có thêm điểm chuyên cần không",
         "0",
         "0",
         "0",
         "0",
         "0"
        ],
        [
         "145",
         "có đăng ký tiếp sức mùa thi không",
         "0",
         "0",
         "0",
         "0",
         "0"
        ],
        [
         "1480",
         "hỏi mua sd sata cố thêm tí nvme tốc độ có khác biệt không",
         "0",
         "0",
         "0",
         "2",
         "1"
        ],
        [
         "1006",
         "gom order bánh bao chiên kcái giờ trả đơn ở cổng ktx",
         "1",
         "0",
         "0",
         "4",
         "2"
        ],
        [
         "1162",
         "có biết chỗ bán mì cay ngon ở khu vực hà đông không",
         "0",
         "0",
         "0",
         "0",
         "0"
        ],
        [
         "47",
         "cần thuê trọ gần trường liên hệ chính chủ không trung gian",
         "0",
         "0",
         "0",
         "0",
         "0"
        ],
        [
         "944",
         "nghĩ mày rốn vũ trụ",
         "0",
         "0",
         "0",
         "0",
         "0"
        ],
        [
         "696",
         "hóng link ful không che",
         "0",
         "0",
         "0",
         "0",
         "0"
        ],
        [
         "1516",
         "dịch vụ làm lái xe cavet xe cd phôi bao soi giao dịch trực tiếp an toàn dr zalo",
         "1",
         "0",
         "0",
         "1",
         "0"
        ],
        [
         "292",
         "thân có người yêu ng quên mẹ luôn buồn vãi lồn",
         "1",
         "0",
         "0",
         "0",
         "0"
        ],
        [
         "564",
         "chuyên cung cấp các loại hạt dinh dưỡng ngũ cốc giảm cân ăn vặt healthy không lo béo ship cod toàn quốc",
         "1",
         "0",
         "0",
         "1",
         "0"
        ],
        [
         "1173",
         "cần tìm share phòng trọ khu vực chùa láng trngười yêu cầu sạch sẽ",
         "0",
         "0",
         "0",
         "0",
         "1"
        ],
        [
         "261",
         "pas khóa học lập trình python udemy mua không pas không",
         "0",
         "0",
         "0",
         "0",
         "6"
        ],
        [
         "1041",
         "muốn kiếm triệutháng rảnh rỗi seding review sản phẩm làm online ib nhận ngay",
         "1",
         "0",
         "0",
         "0",
         "5"
        ],
        [
         "1440",
         "loại sống tổ làm khổ khác",
         "0",
         "0",
         "0",
         "0",
         "0"
        ],
        [
         "1342",
         "loại bạn bè đéo thấy bắt nạt trốn chó",
         "0",
         "0",
         "0",
         "0",
         "0"
        ],
        [
         "258",
         "tuyển làm airdrop bounty các dự án crypto không cần vốn cần siêng năng thu nhập không giới hạn",
         "0",
         "0",
         "0",
         "0",
         "2"
        ],
        [
         "1548",
         "tuyển xem video tiktok kiếm tiền kvideo ngày kiếm không bình thường link tải ap ở bio",
         "1",
         "0",
         "0",
         "0",
         "9"
        ],
        [
         "1554",
         "mesi mỹ đá dạo đẳng cấp mãi mãi",
         "0",
         "0",
         "0",
         "0",
         "0"
        ],
        [
         "548",
         "có biết cách fix lỗi this site cant be reached không",
         "0",
         "0",
         "0",
         "0",
         "0"
        ],
        [
         "1419",
         "nay có xem man city đá không",
         "0",
         "0",
         "0",
         "0",
         "0"
        ],
        [
         "915",
         "tuyển ctv bán nước hoa chiết chính hãng không cần vốn không ôm hàng chiết khấu training kiến thức mùi hương",
         "1",
         "0",
         "0",
         "1",
         "0"
        ],
        [
         "743",
         "có biết cách dùng hàm vlokup excel không chỉ khóc",
         "0",
         "0",
         "0",
         "0",
         "0"
        ],
        [
         "1577",
         "đĩ suốt ngày cosplay anime nhìn phò đéo có tí thần thái",
         "0",
         "0",
         "0",
         "0",
         "0"
        ],
        [
         "1580",
         "chap one piece có tình tiết vãi lồn oda thánh",
         "1",
         "0",
         "0",
         "0",
         "0"
        ],
        [
         "185",
         "môn pháp luật đại cương có điểm danh gắt không",
         "0",
         "0",
         "0",
         "0",
         "0"
        ],
        [
         "687",
         "tìm đồng đội nay ăn phở cuốn ngũ xã",
         "0",
         "0",
         "0",
         "0",
         "0"
        ],
        [
         "1414",
         "loại đéo có não code lỗi lòi cứ thích cãi",
         "0",
         "0",
         "0",
         "0",
         "0"
        ],
        [
         "1184",
         "địt mẹ lồn sh xe sân ktx bố đéo dắt xe",
         "0",
         "0",
         "0",
         "2",
         "0"
        ],
        [
         "1029",
         "ad đăng tìm đồng đội mộc châu cuối tuần",
         "0",
         "0",
         "0",
         "0",
         "0"
        ],
        [
         "1368",
         "không có điều kiện nhỉ thấy đổi điện thoại liên tục",
         "0",
         "0",
         "0",
         "0",
         "0"
        ],
        [
         "873",
         "có biết cách chèn video powerpoint không lỗi không",
         "0",
         "0",
         "0",
         "0",
         "0"
        ],
        [
         "1423",
         "đĩ suốt ngày chê bai khác bản thân lồn",
         "0",
         "0",
         "0",
         "0",
         "0"
        ],
        [
         "1572",
         "bán ac genshin impact ar ful top meta raiden nahida không có thời gian chơi giao dịch admin uy tín",
         "1",
         "0",
         "0",
         "1",
         "4"
        ],
        [
         "995",
         "thi vấn đáp chữ thầy trả thầy hết cứu",
         "1",
         "0",
         "0",
         "0",
         "0"
        ],
        [
         "1257",
         "tol buf mắt livestream tăng tương tác giúp bán hàng đơn giá ktháng ib dùng thử",
         "1",
         "0",
         "0",
         "3",
         "3"
        ],
        [
         "1129",
         "có biết quán net ở gần trường có máy ngon chơi elden ring không",
         "0",
         "0",
         "0",
         "0",
         "0"
        ],
        [
         "1149",
         "chạy ng deadline đột quỵ mệt vãi lồn",
         "1",
         "0",
         "0",
         "0",
         "0"
        ]
       ],
       "shape": {
        "columns": 6,
        "rows": 1328
       }
      },
      "text/html": [
       "<div>\n",
       "<style scoped>\n",
       "    .dataframe tbody tr th:only-of-type {\n",
       "        vertical-align: middle;\n",
       "    }\n",
       "\n",
       "    .dataframe tbody tr th {\n",
       "        vertical-align: top;\n",
       "    }\n",
       "\n",
       "    .dataframe thead th {\n",
       "        text-align: right;\n",
       "    }\n",
       "</style>\n",
       "<table border=\"1\" class=\"dataframe\">\n",
       "  <thead>\n",
       "    <tr style=\"text-align: right;\">\n",
       "      <th></th>\n",
       "      <th>comment</th>\n",
       "      <th>num_emoji</th>\n",
       "      <th>num_email</th>\n",
       "      <th>num_link</th>\n",
       "      <th>num_upper</th>\n",
       "      <th>Count_num</th>\n",
       "    </tr>\n",
       "  </thead>\n",
       "  <tbody>\n",
       "    <tr>\n",
       "      <th>438</th>\n",
       "      <td>đứa có link xem the voice tối qua không</td>\n",
       "      <td>0</td>\n",
       "      <td>0</td>\n",
       "      <td>0</td>\n",
       "      <td>0</td>\n",
       "      <td>0</td>\n",
       "    </tr>\n",
       "    <tr>\n",
       "      <th>229</th>\n",
       "      <td>địt mẹ đứa lấy trộm sạc dự phòng</td>\n",
       "      <td>0</td>\n",
       "      <td>0</td>\n",
       "      <td>0</td>\n",
       "      <td>0</td>\n",
       "      <td>0</td>\n",
       "    </tr>\n",
       "    <tr>\n",
       "      <th>293</th>\n",
       "      <td>dịch vụ sms banking xác nhận otp tạo tài khoản...</td>\n",
       "      <td>0</td>\n",
       "      <td>0</td>\n",
       "      <td>0</td>\n",
       "      <td>2</td>\n",
       "      <td>0</td>\n",
       "    </tr>\n",
       "    <tr>\n",
       "      <th>5</th>\n",
       "      <td>cần tìm học chung ielts mục tiêu ở khu vực cầu...</td>\n",
       "      <td>0</td>\n",
       "      <td>0</td>\n",
       "      <td>0</td>\n",
       "      <td>0</td>\n",
       "      <td>2</td>\n",
       "    </tr>\n",
       "    <tr>\n",
       "      <th>16</th>\n",
       "      <td>địt mẹ mạng ktx c load mãi không ng</td>\n",
       "      <td>1</td>\n",
       "      <td>0</td>\n",
       "      <td>0</td>\n",
       "      <td>0</td>\n",
       "      <td>0</td>\n",
       "    </tr>\n",
       "    <tr>\n",
       "      <th>...</th>\n",
       "      <td>...</td>\n",
       "      <td>...</td>\n",
       "      <td>...</td>\n",
       "      <td>...</td>\n",
       "      <td>...</td>\n",
       "      <td>...</td>\n",
       "    </tr>\n",
       "    <tr>\n",
       "      <th>1446</th>\n",
       "      <td>dịch vụ viết cv cover leter chuyên nghiệp giúp...</td>\n",
       "      <td>1</td>\n",
       "      <td>0</td>\n",
       "      <td>0</td>\n",
       "      <td>1</td>\n",
       "      <td>3</td>\n",
       "    </tr>\n",
       "    <tr>\n",
       "      <th>1212</th>\n",
       "      <td>óc cặc chấm môn triết điểm làm vãi lồn điểm cặc</td>\n",
       "      <td>0</td>\n",
       "      <td>0</td>\n",
       "      <td>0</td>\n",
       "      <td>0</td>\n",
       "      <td>1</td>\n",
       "    </tr>\n",
       "    <tr>\n",
       "      <th>635</th>\n",
       "      <td>nhận làm video highlight bóng đá video tiktok ...</td>\n",
       "      <td>1</td>\n",
       "      <td>0</td>\n",
       "      <td>0</td>\n",
       "      <td>0</td>\n",
       "      <td>0</td>\n",
       "    </tr>\n",
       "    <tr>\n",
       "      <th>531</th>\n",
       "      <td>có biết chỗ bán đồ secondhand đẹp rẻ không</td>\n",
       "      <td>0</td>\n",
       "      <td>0</td>\n",
       "      <td>0</td>\n",
       "      <td>0</td>\n",
       "      <td>0</td>\n",
       "    </tr>\n",
       "    <tr>\n",
       "      <th>429</th>\n",
       "      <td>thá mặt dạy đời</td>\n",
       "      <td>0</td>\n",
       "      <td>0</td>\n",
       "      <td>0</td>\n",
       "      <td>0</td>\n",
       "      <td>0</td>\n",
       "    </tr>\n",
       "  </tbody>\n",
       "</table>\n",
       "<p>1328 rows × 6 columns</p>\n",
       "</div>"
      ],
      "text/plain": [
       "                                                comment  num_emoji  num_email  \\\n",
       "438             đứa có link xem the voice tối qua không          0          0   \n",
       "229                    địt mẹ đứa lấy trộm sạc dự phòng          0          0   \n",
       "293   dịch vụ sms banking xác nhận otp tạo tài khoản...          0          0   \n",
       "5     cần tìm học chung ielts mục tiêu ở khu vực cầu...          0          0   \n",
       "16                  địt mẹ mạng ktx c load mãi không ng          1          0   \n",
       "...                                                 ...        ...        ...   \n",
       "1446  dịch vụ viết cv cover leter chuyên nghiệp giúp...          1          0   \n",
       "1212    óc cặc chấm môn triết điểm làm vãi lồn điểm cặc          0          0   \n",
       "635   nhận làm video highlight bóng đá video tiktok ...          1          0   \n",
       "531          có biết chỗ bán đồ secondhand đẹp rẻ không          0          0   \n",
       "429                                     thá mặt dạy đời          0          0   \n",
       "\n",
       "      num_link  num_upper  Count_num  \n",
       "438          0          0          0  \n",
       "229          0          0          0  \n",
       "293          0          2          0  \n",
       "5            0          0          2  \n",
       "16           0          0          0  \n",
       "...        ...        ...        ...  \n",
       "1446         0          1          3  \n",
       "1212         0          0          1  \n",
       "635          0          0          0  \n",
       "531          0          0          0  \n",
       "429          0          0          0  \n",
       "\n",
       "[1328 rows x 6 columns]"
      ]
     },
     "execution_count": 20,
     "metadata": {},
     "output_type": "execute_result"
    }
   ],
   "source": [
    "X_train_l"
   ]
  },
  {
   "cell_type": "code",
   "execution_count": 21,
   "id": "4bda7234",
   "metadata": {},
   "outputs": [],
   "source": [
    "from scipy.sparse import csr_matrix, hstack"
   ]
  },
  {
   "cell_type": "code",
   "execution_count": 22,
   "id": "8d0d3272",
   "metadata": {},
   "outputs": [],
   "source": [
    "# Các cột chứa thông tin của comment\n",
    "information_col = ['num_emoji', 'num_email', 'num_link', 'num_upper', 'Count_num']\n",
    "\n",
    "#---------------------------------------------------------------------------------\n",
    "\n",
    "BoW_for_data_label = CountVectorizer()\n",
    "\n",
    "BoW_for_data_label.fit(X_train_l['comment'])\n",
    "# Transform cho cột comment X_test['comment'] và X_n['text'] để tránh data leak\n",
    "X_train_l_bow_text = BoW_for_data_label.transform(X_train_l['comment'])\n",
    "X_test_l_bow_text = BoW_for_data_label.transform(X_test_l['comment'])\n",
    "X_n_bow_text = BoW_for_data_label.transform(X_n['text'])\n",
    "\n",
    "# Ghép ma trận thưa comment với ma trận thưa thông tin commentcomment\n",
    "X_train_l_bow = hstack([X_train_l_bow_text, csr_matrix(X_train_l[information_col])])\n",
    "X_test_l_bow = hstack([X_test_l_bow_text, csr_matrix(X_test_l[information_col])])\n",
    "X_n_bow = hstack([X_n_bow_text, csr_matrix(X_n[information_col])])\n",
    "\n",
    "#---------------------------------------------------------------------------------\n",
    "\n",
    "Tfidf_for_data_label = TfidfVectorizer()\n",
    "\n",
    "Tfidf_for_data_label.fit(X_train_l['comment'])\n",
    "# Transform cho cột comment X_test['comment'] và X_n['text'] để tránh data leak\n",
    "X_train_l_tfidf_text = Tfidf_for_data_label.transform(X_train_l['comment'])\n",
    "X_test_l_tfidf_text = Tfidf_for_data_label.transform(X_test_l['comment'])\n",
    "X_n_tfidf_text = Tfidf_for_data_label.transform(X_n['text'])\n",
    "\n",
    "# Ghép ma trận thưa comment với ma trận thưa thông tin commentcomme\n",
    "X_train_l_tfidf = hstack([X_train_l_tfidf_text, csr_matrix(X_train_l[information_col])])\n",
    "X_test_l_tfidf = hstack([X_test_l_tfidf_text, csr_matrix(X_test_l[information_col])])\n",
    "X_n_tfidf = hstack([X_n_tfidf_text, csr_matrix(X_n[information_col])])\n",
    "\n",
    "#---------------------------------------------------------------------------------\n",
    "\n",
    "\n"
   ]
  },
  {
   "cell_type": "code",
   "execution_count": 23,
   "id": "6e897279",
   "metadata": {},
   "outputs": [
    {
     "name": "stdout",
     "output_type": "stream",
     "text": [
      "Device: cuda\n"
     ]
    }
   ],
   "source": [
    "import torch\n",
    "from transformers import AutoTokenizer, AutoModel\n",
    "from tqdm import tqdm\n",
    "\n",
    "# Kiểm tra GPU\n",
    "device = torch.device('cuda' if torch.cuda.is_available() else 'cpu')\n",
    "print(f\"Device: {device}\")"
   ]
  },
  {
   "cell_type": "code",
   "execution_count": 24,
   "id": "fe9c19ec",
   "metadata": {},
   "outputs": [
    {
     "data": {
      "text/plain": [
       "RobertaModel(\n",
       "  (embeddings): RobertaEmbeddings(\n",
       "    (word_embeddings): Embedding(64001, 768, padding_idx=1)\n",
       "    (position_embeddings): Embedding(258, 768, padding_idx=1)\n",
       "    (token_type_embeddings): Embedding(1, 768)\n",
       "    (LayerNorm): LayerNorm((768,), eps=1e-05, elementwise_affine=True)\n",
       "    (dropout): Dropout(p=0.1, inplace=False)\n",
       "  )\n",
       "  (encoder): RobertaEncoder(\n",
       "    (layer): ModuleList(\n",
       "      (0-11): 12 x RobertaLayer(\n",
       "        (attention): RobertaAttention(\n",
       "          (self): RobertaSdpaSelfAttention(\n",
       "            (query): Linear(in_features=768, out_features=768, bias=True)\n",
       "            (key): Linear(in_features=768, out_features=768, bias=True)\n",
       "            (value): Linear(in_features=768, out_features=768, bias=True)\n",
       "            (dropout): Dropout(p=0.1, inplace=False)\n",
       "          )\n",
       "          (output): RobertaSelfOutput(\n",
       "            (dense): Linear(in_features=768, out_features=768, bias=True)\n",
       "            (LayerNorm): LayerNorm((768,), eps=1e-05, elementwise_affine=True)\n",
       "            (dropout): Dropout(p=0.1, inplace=False)\n",
       "          )\n",
       "        )\n",
       "        (intermediate): RobertaIntermediate(\n",
       "          (dense): Linear(in_features=768, out_features=3072, bias=True)\n",
       "          (intermediate_act_fn): GELUActivation()\n",
       "        )\n",
       "        (output): RobertaOutput(\n",
       "          (dense): Linear(in_features=3072, out_features=768, bias=True)\n",
       "          (LayerNorm): LayerNorm((768,), eps=1e-05, elementwise_affine=True)\n",
       "          (dropout): Dropout(p=0.1, inplace=False)\n",
       "        )\n",
       "      )\n",
       "    )\n",
       "  )\n",
       "  (pooler): RobertaPooler(\n",
       "    (dense): Linear(in_features=768, out_features=768, bias=True)\n",
       "    (activation): Tanh()\n",
       "  )\n",
       ")"
      ]
     },
     "execution_count": 24,
     "metadata": {},
     "output_type": "execute_result"
    }
   ],
   "source": [
    "phobert_tokenizer = AutoTokenizer.from_pretrained(\"vinai/phobert-base\")\n",
    "phobert_model = AutoModel.from_pretrained(\"vinai/phobert-base\")\n",
    "phobert_model = phobert_model.to(device)\n",
    "phobert_model.eval()"
   ]
  },
  {
   "cell_type": "code",
   "execution_count": 25,
   "id": "8f0f73e7",
   "metadata": {},
   "outputs": [],
   "source": [
    "def get_phobert_embeddings(texts, batch_size=16):\n",
    "    embeddings = []\n",
    "    for i in tqdm(range(0, len(texts), batch_size)):\n",
    "        batch = texts[i:i + batch_size]\n",
    "        inputs = phobert_tokenizer(batch, return_tensors=\"pt\", padding=True, \n",
    "                                   truncation=True, max_length=256)\n",
    "        inputs = {k: v.to(device) for k, v in inputs.items()}\n",
    "        with torch.no_grad():\n",
    "            outputs = phobert_model(**inputs)\n",
    "        embeddings.append(outputs.last_hidden_state[:, 0, :].cpu().numpy())\n",
    "    return np.vstack(embeddings)"
   ]
  },
  {
   "cell_type": "code",
   "execution_count": 26,
   "id": "5d122718",
   "metadata": {},
   "outputs": [
    {
     "name": "stderr",
     "output_type": "stream",
     "text": [
      "100%|██████████| 83/83 [00:05<00:00, 15.59it/s]\n",
      "100%|██████████| 21/21 [00:01<00:00, 18.16it/s]\n",
      "100%|██████████| 262/262 [00:15<00:00, 17.14it/s]\n"
     ]
    }
   ],
   "source": [
    "# Train\n",
    "X_train_l_phobert_text = get_phobert_embeddings(X_train_l['comment'].tolist())\n",
    "X_train_l_phobert = np.hstack([X_train_l_phobert_text, X_train_l[information_col].values])\n",
    "\n",
    "# Test\n",
    "X_test_l_phobert_text = get_phobert_embeddings(X_test_l['comment'].tolist())\n",
    "X_test_l_phobert = np.hstack([X_test_l_phobert_text, X_test_l[information_col].values])\n",
    "\n",
    "# Data không nhãn\n",
    "X_n_phobert_text = get_phobert_embeddings(X_n['text'].tolist())\n",
    "X_n_phobert = np.hstack([X_n_phobert_text, X_n[information_col].values])\n",
    "\n",
    "torch.cuda.empty_cache()"
   ]
  },
  {
   "cell_type": "markdown",
   "id": "7f1522ae",
   "metadata": {},
   "source": [
    "# 3. Huấn luyện mô hình "
   ]
  },
  {
   "cell_type": "markdown",
   "id": "80778007",
   "metadata": {},
   "source": [
    "## 3.1. import các thư viện liên quan"
   ]
  },
  {
   "cell_type": "code",
   "execution_count": 27,
   "id": "ca326bfd",
   "metadata": {},
   "outputs": [],
   "source": [
    "from sklearn.feature_extraction.text import CountVectorizer, TfidfVectorizer\n",
    "from sklearn.model_selection import train_test_split\n",
    "from sklearn.naive_bayes import MultinomialNB\n",
    "from sklearn.svm import SVC\n",
    "from sklearn.metrics import accuracy_score, precision_score, recall_score, f1_score, classification_report\n",
    "from sklearn.pipeline import Pipeline\n",
    "\n",
    "from scipy.sparse import vstack\n",
    "\n",
    "import torch\n",
    "from transformers import AutoTokenizer, AutoModel"
   ]
  },
  {
   "cell_type": "markdown",
   "id": "41a8a094",
   "metadata": {},
   "source": [
    "## 3.2. Pipeline huấn luyện mô mô hình và xuất báo cáo"
   ]
  },
  {
   "cell_type": "code",
   "execution_count": 28,
   "id": "aba63b60",
   "metadata": {},
   "outputs": [],
   "source": [
    "def train_model_pipeline(model_name, X_train, y_train, X_test, y_test, X_n, threshold=0.9):\n",
    "\n",
    "    # Khai báo model \n",
    "    if model_name == 'NB':\n",
    "        model = MultinomialNB()\n",
    "    elif model_name == 'SVC':\n",
    "        model = SVC(probability=True)\n",
    "    \n",
    "    # Huấn luyện model trên data có label\n",
    "    model.fit(X_train, y_train)\n",
    "\n",
    "    # Đánh giá model trước khi self-training \n",
    "    y_test_pred = model.predict(X_test)\n",
    "\n",
    "    # Dự đoán cho dữ liệu không nhãn \n",
    "    y_n_pred = model.predict(X_n)\n",
    "\n",
    "    # Xác suất dự đoán nhãn tốt nhất của mỗi sample \n",
    "    y_n_proba = model.predict_proba(X_n)\n",
    "    y_n_proba_max = np.max(y_n_proba, axis=1)\n",
    "\n",
    "    # Lọc ra các sample ở X_n có xác suất dự đoán vượt threshold\n",
    "    mask = y_n_proba_max > threshold\n",
    "\n",
    "    # # Lọc ra các sample ở dataset không nhãn khi được dự đoán có xác suất trên ngưỡng threshold\n",
    "    X_n_confident = X_n[mask]          \n",
    "    y_n_confident = y_n_pred[mask]\n",
    "\n",
    "\n",
    "    # Gộp chung ds \n",
    "    X_train_new = vstack([X_train, X_n_confident])\n",
    "\n",
    "    # Gộp chung label\n",
    "    y_train_array = y_train.values if hasattr(y_train, 'values') else y_train\n",
    "    y_train_new = np.concatenate([y_train_array, y_n_confident])\n",
    "\n",
    "    # In ra số lượng nhãn trong dataset sau khi gộp\n",
    "    print(f\"Số lượng nhãn sau khi gộp data:\")\n",
    "    print(f\"Class 0: {np.bincount(y_train_new)[0]}\")\n",
    "    print(f\"Class 1: {np.bincount(y_train_new)[1]}\")\n",
    "\n",
    "    # Huấn luyện lại mô hình với ds đã gộp\n",
    "    model.fit(X_train_new, y_train_new)\n",
    "\n",
    "    # Dự đoán cho tập test và đưa ra kết quả đánh giá ma trận\n",
    "    y_pred_after = model.predict(X_test)\n",
    "\n",
    "    # Tính toán các chỉ số cho đồ thị\n",
    "    acc_before = accuracy_score(y_test, y_test_pred)\n",
    "    pre_before = precision_score(y_test, y_test_pred, average='macro')\n",
    "    rec_before = recall_score(y_test, y_test_pred, average='macro')\n",
    "    f1_before = f1_score(y_test, y_test_pred, average='macro')\n",
    "\n",
    "    acc_after = accuracy_score(y_test, y_pred_after)\n",
    "    pre_after = precision_score(y_test, y_pred_after, average='macro')\n",
    "    rec_after = recall_score(y_test, y_pred_after, average='macro')\n",
    "    f1_after = f1_score(y_test, y_pred_after, average='macro')\n",
    "\n",
    "\n",
    "    # -------------------- Đánh giá cho ma trận --------------------\n",
    "\n",
    "    print('-' * 30)\n",
    "    print(f\"Ma trận đánh giá trước khi self-training (trước khi thêm dữ liệu tự gán nhãn):\")\n",
    "    print(\"Độ chính xác (Accuracy):\", acc_before)\n",
    "    print(\"Độ chính xác theo nhãn (Precision - macro):\", pre_before)\n",
    "    print(\"Tỉ lệ thu hồi theo nhãn (Recall - macro):\", rec_before)\n",
    "    print(\"Điểm F1 (F1-score - macro):\", f1_before)\n",
    "    print(\"Báo cáo chi tiết các chỉ số:\")\n",
    "    print(classification_report(y_test, y_test_pred))\n",
    "\n",
    "    print('-' * 120)\n",
    "\n",
    "    print(f\"\\nMa trận đánh giá sau khi self-training (sau khi thêm dữ liệu tự gán nhãn):\")\n",
    "    print(\"Độ chính xác (Accuracy):\", acc_after)\n",
    "    print(\"Độ chính xác theo nhãn (Precision - macro):\", pre_after)\n",
    "    print(\"Tỉ lệ thu hồi theo nhãn (Recall - macro):\", rec_after)\n",
    "    print(\"Điểm F1 (F1-score - macro):\", f1_after)\n",
    "    print(\"Báo cáo chi tiết các chỉ số:\")\n",
    "    print(classification_report(y_test, y_pred_after))\n",
    "\n",
    "    # -------------------- Biểu diễn đồ thị trực quan --------------------\n",
    "    metrics = ['Accuracy', 'Precision', 'Recall', 'F1-score']\n",
    "    before = [acc_before, pre_before, rec_before, f1_before]\n",
    "    after = [acc_after, pre_after, rec_after, f1_after]\n",
    "\n",
    "    x = np.arange(len(metrics))\n",
    "    width = 0.35\n",
    "\n",
    "    plt.figure(figsize=(8,5))\n",
    "    plt.bar(x - width/2, before, width, label='Trước self-training')\n",
    "    plt.bar(x + width/2, after, width, label='Sau self-training')\n",
    "    plt.ylabel('Giá trị')\n",
    "    plt.ylim(0, 1)\n",
    "    plt.title('So sánh chỉ số đánh giá trên tập test\\nTrước và sau self-training Naive Bayes')\n",
    "    plt.xticks(x, metrics)\n",
    "    plt.legend(loc='best')\n",
    "    plt.grid(axis='y', linestyle='--', alpha=0.5)\n",
    "    plt.show()\n",
    "\n",
    "    return model"
   ]
  },
  {
   "cell_type": "markdown",
   "id": "7c7e0a8a",
   "metadata": {},
   "source": [
    "## 3.3. Huấn luyện mô hình Navie Bayes kèm với pipeline BoW"
   ]
  },
  {
   "cell_type": "code",
   "execution_count": 29,
   "id": "597fa144",
   "metadata": {},
   "outputs": [
    {
     "name": "stdout",
     "output_type": "stream",
     "text": [
      "Số lượng nhãn sau khi gộp data:\n",
      "Class 0: 2696\n",
      "Class 1: 739\n",
      "------------------------------\n",
      "Ma trận đánh giá trước khi self-training (trước khi thêm dữ liệu tự gán nhãn):\n",
      "Độ chính xác (Accuracy): 0.9608433734939759\n",
      "Độ chính xác theo nhãn (Precision - macro): 0.948716933312213\n",
      "Tỉ lệ thu hồi theo nhãn (Recall - macro): 0.9661620109433496\n",
      "Điểm F1 (F1-score - macro): 0.9564914968900896\n",
      "Báo cáo chi tiết các chỉ số:\n",
      "              precision    recall  f1-score   support\n",
      "\n",
      "           0       0.99      0.95      0.97       223\n",
      "           1       0.91      0.98      0.94       109\n",
      "\n",
      "    accuracy                           0.96       332\n",
      "   macro avg       0.95      0.97      0.96       332\n",
      "weighted avg       0.96      0.96      0.96       332\n",
      "\n",
      "------------------------------------------------------------------------------------------------------------------------\n",
      "\n",
      "Ma trận đánh giá sau khi self-training (sau khi thêm dữ liệu tự gán nhãn):\n",
      "Độ chính xác (Accuracy): 0.9457831325301205\n",
      "Độ chính xác theo nhãn (Precision - macro): 0.9309075241862833\n",
      "Tỉ lệ thu hồi theo nhãn (Recall - macro): 0.952606245114576\n",
      "Điểm F1 (F1-score - macro): 0.9401322380284511\n",
      "Báo cáo chi tiết các chỉ số:\n",
      "              precision    recall  f1-score   support\n",
      "\n",
      "           0       0.99      0.93      0.96       223\n",
      "           1       0.88      0.97      0.92       109\n",
      "\n",
      "    accuracy                           0.95       332\n",
      "   macro avg       0.93      0.95      0.94       332\n",
      "weighted avg       0.95      0.95      0.95       332\n",
      "\n"
     ]
    },
    {
     "data": {
      "image/png": "[encoded data removed]",
      "text/plain": [
       "<Figure size 800x500 with 1 Axes>"
      ]
     },
     "metadata": {},
     "output_type": "display_data"
    }
   ],
   "source": [
    "NB_BoW = train_model_pipeline('NB', X_train_l_bow, y_train_l, X_test_l_bow, y_test_l, X_n_bow)"
   ]
  },
  {
   "cell_type": "markdown",
   "id": "ae79c4ed",
   "metadata": {},
   "source": [
    "## 3.4. Huấn luyện mô hình Navie Bayes kèm với pipeline TF-IDF"
   ]
  },
  {
   "cell_type": "code",
   "execution_count": 30,
   "id": "7ae3e51b",
   "metadata": {},
   "outputs": [
    {
     "name": "stdout",
     "output_type": "stream",
     "text": [
      "Số lượng nhãn sau khi gộp data:\n",
      "Class 0: 1641\n",
      "Class 1: 602\n",
      "------------------------------\n",
      "Ma trận đánh giá trước khi self-training (trước khi thêm dữ liệu tự gán nhãn):\n",
      "Độ chính xác (Accuracy): 0.9126506024096386\n",
      "Độ chính xác theo nhãn (Precision - macro): 0.9017030423280423\n",
      "Tỉ lệ thu hồi theo nhãn (Recall - macro): 0.8998025260213107\n",
      "Điểm F1 (F1-score - macro): 0.9007412447551006\n",
      "Báo cáo chi tiết các chỉ số:\n",
      "              precision    recall  f1-score   support\n",
      "\n",
      "           0       0.93      0.94      0.94       223\n",
      "           1       0.87      0.86      0.87       109\n",
      "\n",
      "    accuracy                           0.91       332\n",
      "   macro avg       0.90      0.90      0.90       332\n",
      "weighted avg       0.91      0.91      0.91       332\n",
      "\n",
      "------------------------------------------------------------------------------------------------------------------------\n",
      "\n",
      "Ma trận đánh giá sau khi self-training (sau khi thêm dữ liệu tự gán nhãn):\n",
      "Độ chính xác (Accuracy): 0.8975903614457831\n",
      "Độ chính xác theo nhãn (Precision - macro): 0.8883707126807139\n",
      "Tỉ lệ thu hồi theo nhãn (Recall - macro): 0.876866746204797\n",
      "Điểm F1 (F1-score - macro): 0.8822007012856905\n",
      "Báo cáo chi tiết các chỉ số:\n",
      "              precision    recall  f1-score   support\n",
      "\n",
      "           0       0.91      0.94      0.92       223\n",
      "           1       0.86      0.82      0.84       109\n",
      "\n",
      "    accuracy                           0.90       332\n",
      "   macro avg       0.89      0.88      0.88       332\n",
      "weighted avg       0.90      0.90      0.90       332\n",
      "\n"
     ]
    },
    {
     "data": {
      "image/png": "[encoded data removed]",
      "text/plain": [
       "<Figure size 800x500 with 1 Axes>"
      ]
     },
     "metadata": {},
     "output_type": "display_data"
    }
   ],
   "source": [
    "NB_TFIDF = train_model_pipeline('NB', X_train_l_tfidf, y_train_l, X_test_l_tfidf, y_test_l, X_n_tfidf)"
   ]
  },
  {
   "cell_type": "markdown",
   "id": "1c5259f6",
   "metadata": {},
   "source": [
    "## 4.1. Huấn luyện mô hình SVC với pipeline BoW"
   ]
  },
  {
   "cell_type": "code",
   "execution_count": 31,
   "id": "075d0133",
   "metadata": {},
   "outputs": [
    {
     "name": "stdout",
     "output_type": "stream",
     "text": [
      "Số lượng nhãn sau khi gộp data:\n",
      "Class 0: 4695\n",
      "Class 1: 575\n",
      "------------------------------\n",
      "Ma trận đánh giá trước khi self-training (trước khi thêm dữ liệu tự gán nhãn):\n",
      "Độ chính xác (Accuracy): 0.9819277108433735\n",
      "Độ chính xác theo nhãn (Precision - macro): 0.9739130434782608\n",
      "Tỉ lệ thu hồi theo nhãn (Recall - macro): 0.9865470852017937\n",
      "Điểm F1 (F1-score - macro): 0.979788961038961\n",
      "Báo cáo chi tiết các chỉ số:\n",
      "              precision    recall  f1-score   support\n",
      "\n",
      "           0       1.00      0.97      0.99       223\n",
      "           1       0.95      1.00      0.97       109\n",
      "\n",
      "    accuracy                           0.98       332\n",
      "   macro avg       0.97      0.99      0.98       332\n",
      "weighted avg       0.98      0.98      0.98       332\n",
      "\n",
      "------------------------------------------------------------------------------------------------------------------------\n",
      "\n",
      "Ma trận đánh giá sau khi self-training (sau khi thêm dữ liệu tự gán nhãn):\n",
      "Độ chính xác (Accuracy): 0.9668674698795181\n",
      "Độ chính xác theo nhãn (Precision - macro): 0.9580315467568002\n",
      "Tỉ lệ thu hồi theo nhãn (Recall - macro): 0.9683013123791501\n",
      "Điểm F1 (F1-score - macro): 0.962864667541157\n",
      "Báo cáo chi tiết các chỉ số:\n",
      "              precision    recall  f1-score   support\n",
      "\n",
      "           0       0.99      0.96      0.98       223\n",
      "           1       0.93      0.97      0.95       109\n",
      "\n",
      "    accuracy                           0.97       332\n",
      "   macro avg       0.96      0.97      0.96       332\n",
      "weighted avg       0.97      0.97      0.97       332\n",
      "\n"
     ]
    },
    {
     "data": {
      "image/png": "[encoded data removed]",
      "text/plain": [
       "<Figure size 800x500 with 1 Axes>"
      ]
     },
     "metadata": {},
     "output_type": "display_data"
    }
   ],
   "source": [
    "SVC_BOW = train_model_pipeline('SVC', X_train_l_bow, y_train_l, X_test_l_bow, y_test_l, X_n_bow)"
   ]
  },
  {
   "cell_type": "markdown",
   "id": "e8a702d8",
   "metadata": {},
   "source": [
    "## 4.2. Train model SVC với pipeline TF-IDF"
   ]
  },
  {
   "cell_type": "code",
   "execution_count": 32,
   "id": "5d3cc880",
   "metadata": {},
   "outputs": [
    {
     "name": "stdout",
     "output_type": "stream",
     "text": [
      "Số lượng nhãn sau khi gộp data:\n",
      "Class 0: 4018\n",
      "Class 1: 526\n",
      "------------------------------\n",
      "Ma trận đánh giá trước khi self-training (trước khi thêm dữ liệu tự gán nhãn):\n",
      "Độ chính xác (Accuracy): 0.9066265060240963\n",
      "Độ chính xác theo nhãn (Precision - macro): 0.8934889434889435\n",
      "Tỉ lệ thu hồi theo nhãn (Recall - macro): 0.8953182210885753\n",
      "Điểm F1 (F1-score - macro): 0.8943922836180801\n",
      "Báo cáo chi tiết các chỉ số:\n",
      "              precision    recall  f1-score   support\n",
      "\n",
      "           0       0.93      0.93      0.93       223\n",
      "           1       0.85      0.86      0.86       109\n",
      "\n",
      "    accuracy                           0.91       332\n",
      "   macro avg       0.89      0.90      0.89       332\n",
      "weighted avg       0.91      0.91      0.91       332\n",
      "\n",
      "------------------------------------------------------------------------------------------------------------------------\n",
      "\n",
      "Ma trận đánh giá sau khi self-training (sau khi thêm dữ liệu tự gán nhãn):\n",
      "Độ chính xác (Accuracy): 0.9066265060240963\n",
      "Độ chính xác theo nhãn (Precision - macro): 0.8948412698412699\n",
      "Tỉ lệ thu hồi theo nhãn (Recall - macro): 0.8929732175916403\n",
      "Điểm F1 (F1-score - macro): 0.8938958133589006\n",
      "Báo cáo chi tiết các chỉ số:\n",
      "              precision    recall  f1-score   support\n",
      "\n",
      "           0       0.93      0.93      0.93       223\n",
      "           1       0.86      0.85      0.86       109\n",
      "\n",
      "    accuracy                           0.91       332\n",
      "   macro avg       0.89      0.89      0.89       332\n",
      "weighted avg       0.91      0.91      0.91       332\n",
      "\n"
     ]
    },
    {
     "data": {
      "image/png": "[encoded data removed]",
      "text/plain": [
       "<Figure size 800x500 with 1 Axes>"
      ]
     },
     "metadata": {},
     "output_type": "display_data"
    }
   ],
   "source": [
    "SVC_TFIDF = train_model_pipeline('SVC', X_train_l_tfidf, y_train_l, X_test_l_tfidf, y_test_l, X_n_tfidf)"
   ]
  },
  {
   "cell_type": "markdown",
   "id": "700dd100",
   "metadata": {},
   "source": [
    "## 4.3. Train model SVC với chiến lược embedding câu dugf PhoBert"
   ]
  },
  {
   "cell_type": "code",
   "execution_count": 33,
   "id": "8b0b2c72",
   "metadata": {},
   "outputs": [
    {
     "name": "stdout",
     "output_type": "stream",
     "text": [
      "Số lượng nhãn sau khi gộp data:\n",
      "Class 0: 4633\n",
      "Class 1: 462\n",
      "------------------------------\n",
      "Ma trận đánh giá trước khi self-training (trước khi thêm dữ liệu tự gán nhãn):\n",
      "Độ chính xác (Accuracy): 0.9819277108433735\n",
      "Độ chính xác theo nhãn (Precision - macro): 0.9739130434782608\n",
      "Tỉ lệ thu hồi theo nhãn (Recall - macro): 0.9865470852017937\n",
      "Điểm F1 (F1-score - macro): 0.979788961038961\n",
      "Báo cáo chi tiết các chỉ số:\n",
      "              precision    recall  f1-score   support\n",
      "\n",
      "           0       1.00      0.97      0.99       223\n",
      "           1       0.95      1.00      0.97       109\n",
      "\n",
      "    accuracy                           0.98       332\n",
      "   macro avg       0.97      0.99      0.98       332\n",
      "weighted avg       0.98      0.98      0.98       332\n",
      "\n",
      "------------------------------------------------------------------------------------------------------------------------\n",
      "\n",
      "Ma trận đánh giá sau khi self-training (sau khi thêm dữ liệu tự gán nhãn):\n",
      "Độ chính xác (Accuracy): 0.9789156626506024\n",
      "Độ chính xác theo nhãn (Precision - macro): 0.973133116883117\n",
      "Tỉ lệ thu hồi theo nhãn (Recall - macro): 0.979614925741556\n",
      "Điểm F1 (F1-score - macro): 0.9762622187266989\n",
      "Báo cáo chi tiết các chỉ số:\n",
      "              precision    recall  f1-score   support\n",
      "\n",
      "           0       0.99      0.98      0.98       223\n",
      "           1       0.96      0.98      0.97       109\n",
      "\n",
      "    accuracy                           0.98       332\n",
      "   macro avg       0.97      0.98      0.98       332\n",
      "weighted avg       0.98      0.98      0.98       332\n",
      "\n"
     ]
    },
    {
     "data": {
      "image/png": "[encoded data removed]",
      "text/plain": [
       "<Figure size 800x500 with 1 Axes>"
      ]
     },
     "metadata": {},
     "output_type": "display_data"
    }
   ],
   "source": [
    "SVC_PhoBERT = train_model_pipeline('SVC', X_train_l_phobert, y_train_l, X_test_l_phobert, y_test_l, X_n_phobert)"
   ]
  },
  {
   "cell_type": "markdown",
   "id": "84d68e91",
   "metadata": {},
   "source": [
    "# test thu\n"
   ]
  },
  {
   "cell_type": "code",
   "execution_count": null,
   "id": "ad554960",
   "metadata": {},
   "outputs": [
    {
     "name": "stdout",
     "output_type": "stream",
     "text": [
      "------------------------------------------------------------------------------------------------------------------------\n",
      "BoW - Naive Bayes: \n",
      "Độ chính xác (Accuracy): 0.925\n",
      "Độ chính xác theo nhãn (Precision - macro): 0.9347826086956521\n",
      "Tỉ lệ thu hồi theo nhãn (Recall - macro): 0.925\n",
      "Điểm F1 (F1-score - macro): 0.9245757385292269\n",
      "Báo cáo chi tiết các chỉ số:\n",
      "              precision    recall  f1-score   support\n",
      "\n",
      "           0       1.00      0.85      0.92        20\n",
      "           1       0.87      1.00      0.93        20\n",
      "\n",
      "    accuracy                           0.93        40\n",
      "   macro avg       0.93      0.93      0.92        40\n",
      "weighted avg       0.93      0.93      0.92        40\n",
      "\n",
      "------------------------------------------------------------------------------------------------------------------------\n",
      "------------------------------------------------------------------------------------------------------------------------\n",
      "BoW - SVC: \n",
      "Độ chính xác (Accuracy): 0.975\n",
      "Độ chính xác theo nhãn (Precision - macro): 0.9761904761904762\n",
      "Tỉ lệ thu hồi theo nhãn (Recall - macro): 0.975\n",
      "Điểm F1 (F1-score - macro): 0.9749843652282677\n",
      "Báo cáo chi tiết các chỉ số:\n",
      "              precision    recall  f1-score   support\n",
      "\n",
      "           0       0.95      1.00      0.98        20\n",
      "           1       1.00      0.95      0.97        20\n",
      "\n",
      "    accuracy                           0.97        40\n",
      "   macro avg       0.98      0.97      0.97        40\n",
      "weighted avg       0.98      0.97      0.97        40\n",
      "\n",
      "------------------------------------------------------------------------------------------------------------------------\n",
      "------------------------------------------------------------------------------------------------------------------------\n",
      "TF-IDF - Naive Bayes: \n",
      "Độ chính xác (Accuracy): 0.925\n",
      "Độ chính xác theo nhãn (Precision - macro): 0.9347826086956521\n",
      "Tỉ lệ thu hồi theo nhãn (Recall - macro): 0.925\n",
      "Điểm F1 (F1-score - macro): 0.9245757385292269\n",
      "Báo cáo chi tiết các chỉ số:\n",
      "              precision    recall  f1-score   support\n",
      "\n",
      "           0       1.00      0.85      0.92        20\n",
      "           1       0.87      1.00      0.93        20\n",
      "\n",
      "    accuracy                           0.93        40\n",
      "   macro avg       0.93      0.93      0.92        40\n",
      "weighted avg       0.93      0.93      0.92        40\n",
      "\n",
      "------------------------------------------------------------------------------------------------------------------------\n",
      "------------------------------------------------------------------------------------------------------------------------\n",
      "TF-IDF - SVC: \n",
      "Độ chính xác (Accuracy): 0.95\n",
      "Độ chính xác theo nhãn (Precision - macro): 0.95\n",
      "Tỉ lệ thu hồi theo nhãn (Recall - macro): 0.95\n",
      "Điểm F1 (F1-score - macro): 0.95\n",
      "Báo cáo chi tiết các chỉ số:\n",
      "              precision    recall  f1-score   support\n",
      "\n",
      "           0       0.95      0.95      0.95        20\n",
      "           1       0.95      0.95      0.95        20\n",
      "\n",
      "    accuracy                           0.95        40\n",
      "   macro avg       0.95      0.95      0.95        40\n",
      "weighted avg       0.95      0.95      0.95        40\n",
      "\n",
      "------------------------------------------------------------------------------------------------------------------------\n"
     ]
    },
    {
     "name": "stderr",
     "output_type": "stream",
     "text": [
      "100%|██████████| 5/5 [00:00<00:00,  5.51it/s]\n"
     ]
    },
    {
     "name": "stdout",
     "output_type": "stream",
     "text": [
      "------------------------------------------------------------------------------------------------------------------------\n",
      "PhoBERT - SVC:\n",
      "Accuracy: 0.925\n",
      "Precision: 0.9347826086956521\n",
      "Recall: 0.925\n",
      "F1-score: 0.9245757385292269\n",
      "              precision    recall  f1-score   support\n",
      "\n",
      "           0       0.87      1.00      0.93        20\n",
      "           1       1.00      0.85      0.92        20\n",
      "\n",
      "    accuracy                           0.93        40\n",
      "   macro avg       0.93      0.93      0.92        40\n",
      "weighted avg       0.93      0.93      0.92        40\n",
      "\n",
      "------------------------------------------------------------------------------------------------------------------------\n"
     ]
    }
   ],
   "source": [
    "# Dữ liệu bình luận đầu vào\n",
    "mixed_comments = [\n",
    "    \"Cảm ơn thầy đã giảng bài rất hay và dễ hiểu\",\n",
    "    \"Khóa học làm giàu online giảm giá 50% mua ngay!!! 🎉🎉🎉\",\n",
    "    \"Em chưa hiểu phần backpropagation, thầy có thể giải thích lại được không ạ\",\n",
    "    \"KIẾM TIỀN TẠI NHÀ 20 TRIỆU/THÁNG!!! INBOX NGAY 0912345678\",\n",
    "    \"Bài tập tuần này khó quá thầy ơi, em làm mãi không ra\",\n",
    "    \"Khóa học AI từ 0 đến chuyên gia chỉ 299k. Click: http://fake-course.com 💰💰\",\n",
    "    \"Video bài giảng rất chi tiết, em đã hiểu rõ hơn về CNN rồi ạ\",\n",
    "    \"Bán tài khoản Netflix Premium giá rẻ chỉ 50k/tháng. Liên hệ Zalo: 0987654321\",\n",
    "    \"Các bạn làm bài 3 ra kết quả bao nhiêu vậy, mình làm mãi không đúng\",\n",
    "    \"🔥🔥🔥 SALE SỐC Macbook Pro giảm 90% chỉ còn 5 triệu!!! Mua ngay kẻo hết\",\n",
    "    \"Thầy ơi, deadline assignment là ngày nào vậy ạ\",\n",
    "    \"Gia sư dạy kèm tại nhà, cam kết điểm A, giá chỉ 100k/buổi. Call: 0901234567\",\n",
    "    \"Em làm bài tập nhưng bị lỗi ValueError, thầy xem giúp em với\",\n",
    "    \"💎💎 Khóa học kinh doanh online BÁN CHẠY NHẤT 2024!!! Đăng ký ngay để được ưu đãi\",\n",
    "    \"Nhóm mình họp lúc 7h tối nhé, ai đi muộn nhớ báo trước\",\n",
    "    \"Bán acc Shopee xu 500k chỉ 50k. Uy tín 100%. Inbox mua ngay 🎁🎁🎁\",\n",
    "    \"Ai có tài liệu tham khảo về Transformer không, share cho mình với\",\n",
    "    \"VIỆC LÀM ONLINE TẠI NHÀ - Lương 15-30 triệu/tháng - Tuyển gấp!!! http://scam.vn\",\n",
    "    \"Làm sao để cài đặt TensorFlow trên Mac vậy mọi người\",\n",
    "    \"🚀🚀 Đầu tư Forex sinh lời 200%/tháng. Rút tiền bất cứ lúc nào. Tham gia: bit.ly/forex\",\n",
    "    \"Cảm ơn bạn đã giúp mình debug, giờ code chạy được rồi\",\n",
    "    \"MUA NGAY iPhone 15 Pro Max giá chỉ 3 triệu!!! Sale cuối năm 😱😱😱 www.fake-shop.com\",\n",
    "    \"Buổi học hôm nay rất bổ ích, em học được nhiều kiến thức mới\",\n",
    "    \"Khóa học tiếng Anh giao tiếp cấp tốc 1 tháng thành thạo. Giảm 80% hôm nay!!!\",\n",
    "    \"Nên dùng Adam hay SGD optimizer cho bài này các bạn\",\n",
    "    \"💰 Cần người làm việc tại nhà, lương 500k/ngày. Không cần kinh nghiệm. Zalo: 098xxx\",\n",
    "    \"Accuracy của mình chỉ được 70%, có cách nào để cải thiện không\",\n",
    "    \"🎉 KHUYẾN MÃI CỰC SỐC 🎉 Laptop Dell core i7 chỉ 4 triệu!!! Inbox đặt hàng ngay\",\n",
    "    \"Thầy có thể cho thêm ví dụ về gradient descent không ạ\",\n",
    "    \"Bán sim số đẹp phong thủy giá rẻ. Liên hệ: 0912.345.678 hoặc visit: simdep.vn\",\n",
    "    \"Code này chạy được trên Colab không các bạn, mình test thử đi\",\n",
    "    \"⚡️⚡️ FULL COURSE lập trình 100 khóa chỉ 99k trọn đời!!! Download ngay: drive.link\",\n",
    "    \"Em cảm thấy phần này hơi khó hiểu, thầy giảng lại được không ạ\",\n",
    "    \"Kinh doanh mỹ phẩm online thu nhập khủng. Tham gia team ngay!!! 📞 0909123456\",\n",
    "    \"Meeting vào thứ 3 tuần sau nhé team, chuẩn bị slide trước\",\n",
    "    \"WIN IPHONE 15!!! Chỉ cần click link và điền thông tin 👉 http://phishing.com 🎁\",\n",
    "    \"GPU hết memory rồi, có cách nào giảm batch size không mọi người\",\n",
    "    \"🔥 Bán tài khoản ChatGPT Plus giá sinh viên chỉ 30k/tháng. Chat Zalo: 098xxxxxx\",\n",
    "    \"Slide bài học ở đâu thầy nhỉ, em không tìm thấy trên drive\",\n",
    "    \"💎 Cơ hội đầu tư BẤT ĐỘNG SẢN lợi nhuận 300%/năm. Đăng ký tư vấn FREE!!!\",\n",
    "]\n",
    "\n",
    "# Nhãn tương ứng với từng bình luận: 0 - bình thường, 1 - spam/quảng cáo\n",
    "labels = [\n",
    "    0, 1, 0, 1, 0, 1, 0, 1, 0, 1,  \n",
    "    0, 1, 0, 1, 0, 1, 0, 1, 0, 1,  \n",
    "    0, 1, 0, 1, 0, 1, 0, 1, 0, 1,  \n",
    "    0, 1, 0, 1, 0, 1, 0, 1, 0, 1,  \n",
    "]\n",
    "\n",
    "\n",
    "# Các cột thông tin thêm vào vector đặc trưng\n",
    "information_col = ['num_emoji', 'num_email', 'num_link', 'num_upper', 'Count_num']\n",
    "\n",
    "# B1: Đưa text vào DataFrame để tiện xử lý\n",
    "test = pd.DataFrame(mixed_comments, columns = ['text'])\n",
    "\n",
    "# B2: Thêm các cột thông tin số lượng (emoji, email, link, uppercase) trước khi tiền xử lý văn bản\n",
    "test = create_count_col(test, 'text')   # hàm này sẽ thêm các cột: num_emoji, num_email, num_link, num_upper\n",
    "\n",
    "# B3: Chuẩn hóa/tiền xử lý dữ liệu (bỏ dấu, thường hóa, loại bỏ stopword,...)\n",
    "test['text'] = test['text'].apply(pipeline_preprocess)\n",
    "\n",
    "\n",
    "# -------------------------- Đánh giá với pipeline BoW --------------------------\n",
    "# B4.1: Ánh xạ sang vector BoW\n",
    "input_text = BoW_for_data_label.transform(test['text'])\n",
    "\n",
    "# B5.1: Kết hợp vectơ BoW với thông tin đặc trưng phụ\n",
    "input_data = hstack([input_text, csr_matrix(test[information_col])]) # dán 2 phần lại\n",
    "\n",
    "# --------------------------  Dự đoán, đánh giá với model NB_BOW --------------------------\n",
    "predict = NB_BoW.predict(input_data)\n",
    "print('-'* 120)\n",
    "print(\"BoW - Naive Bayes: \")\n",
    "print(\"Độ chính xác (Accuracy):\", accuracy_score(labels, predict))\n",
    "print(\"Độ chính xác theo nhãn (Precision - macro):\", precision_score(labels, predict, average='macro'))\n",
    "print(\"Tỉ lệ thu hồi theo nhãn (Recall - macro):\", recall_score(labels, predict, average='macro'))\n",
    "print(\"Điểm F1 (F1-score - macro):\", f1_score(labels, predict, average='macro'))\n",
    "print(\"Báo cáo chi tiết các chỉ số:\")\n",
    "print(classification_report(labels, predict))\n",
    "print('-'* 120)\n",
    "\n",
    "# --------------------------  Dự đoán, đánh giá với model SVC_BOW --------------------------\n",
    "print('-'* 120)\n",
    "predict_svc_bow = SVC_BOW.predict(input_data)\n",
    "print(\"BoW - SVC: \")\n",
    "print(\"Độ chính xác (Accuracy):\", accuracy_score(labels, predict_svc_bow))\n",
    "print(\"Độ chính xác theo nhãn (Precision - macro):\", precision_score(labels, predict_svc_bow, average='macro'))\n",
    "print(\"Tỉ lệ thu hồi theo nhãn (Recall - macro):\", recall_score(labels, predict_svc_bow, average='macro'))\n",
    "print(\"Điểm F1 (F1-score - macro):\", f1_score(labels, predict_svc_bow, average='macro'))\n",
    "print(\"Báo cáo chi tiết các chỉ số:\")\n",
    "print(classification_report(labels, predict_svc_bow))\n",
    "print('-'* 120)\n",
    "\n",
    "# -------------------------- Đánh giá với pipeline TF-IDF --------------------------\n",
    "\n",
    "# B4.2: Vector hóa text bằng TF-IDF\n",
    "input_text_tfidf = Tfidf_for_data_label.transform(test['text']).toarray()\n",
    "\n",
    "# B5.2: Kết hợp TF-IDF với các cột thông tin phụ đã tách ra\n",
    "input_data_tfidf = hstack([input_text_tfidf, csr_matrix(test[information_col])])\n",
    "\n",
    "# --------------------------  Dự đoán, đánh giá với model NB_TFIDF --------------------------\n",
    "predict_tfidf = NB_TFIDF.predict(input_data_tfidf)\n",
    "print('-'* 120)\n",
    "print(\"TF-IDF - Naive Bayes: \")\n",
    "print(\"Độ chính xác (Accuracy):\", accuracy_score(labels, predict_tfidf))\n",
    "print(\"Độ chính xác theo nhãn (Precision - macro):\", precision_score(labels, predict_tfidf, average='macro'))\n",
    "print(\"Tỉ lệ thu hồi theo nhãn (Recall - macro):\", recall_score(labels, predict_tfidf, average='macro'))\n",
    "print(\"Điểm F1 (F1-score - macro):\", f1_score(labels, predict_tfidf, average='macro'))\n",
    "print(\"Báo cáo chi tiết các chỉ số:\")\n",
    "print(classification_report(labels, predict_tfidf))\n",
    "print('-'* 120)\n",
    "\n",
    "\n",
    "# --------------------------  Dự đoán, đánh giá với model SVC_TFIDF --------------------------\n",
    "print('-'* 120)\n",
    "predict_svc_tfidf = SVC_TFIDF.predict(input_data_tfidf)\n",
    "print(\"TF-IDF - SVC: \")\n",
    "print(\"Độ chính xác (Accuracy):\", accuracy_score(labels, predict_svc_tfidf))\n",
    "print(\"Độ chính xác theo nhãn (Precision - macro):\", precision_score(labels, predict_svc_tfidf, average='macro'))\n",
    "print(\"Tỉ lệ thu hồi theo nhãn (Recall - macro):\", recall_score(labels, predict_svc_tfidf, average='macro'))\n",
    "print(\"Điểm F1 (F1-score - macro):\", f1_score(labels, predict_svc_tfidf, average='macro'))\n",
    "print(\"Báo cáo chi tiết các chỉ số:\")\n",
    "print(classification_report(labels, predict_svc_tfidf))\n",
    "print('-'* 120)\n",
    "\n",
    "\n",
    "\n",
    "# --------------------------  Dự đoán, đánh giá với model SVC_TFIDF --------------------------\n",
    "# B4.3. Embedding  \n",
    "test_pb_emb = get_phobert_embeddings(test['text'].tolist(), batch_size=8)\n",
    "# B5.3: Kết hợp vector embeding với các cột thông tin phụ đã tách ra\n",
    "test_pb_data = np.hstack([test_pb_emb, test[information_col].values])\n",
    "\n",
    "# Predict\n",
    "predict_pb = SVC_PhoBERT.predict(test_pb_data)\n",
    "\n",
    "# Đánh giá\n",
    "print('-'* 120)\n",
    "print(\"PhoBERT - SVC:\")\n",
    "print(\"Accuracy:\", accuracy_score(labels, predict_pb))\n",
    "print(\"Precision:\", precision_score(labels, predict_pb, average='macro'))\n",
    "print(\"Recall:\", recall_score(labels, predict_pb, average='macro'))\n",
    "print(\"F1-score:\", f1_score(labels, predict_pb, average='macro'))\n",
    "print(classification_report(labels, predict_pb))\n",
    "print('-'* 120)\n",
    "\n",
    "torch.cuda.empty_cache()\n"
   ]
  }
 ],
 "metadata": {
  "kernelspec": {
   "display_name": "aio",
   "language": "python",
   "name": "python3"
  },
  "language_info": {
   "codemirror_mode": {
    "name": "ipython",
    "version": 3
   },
   "file_extension": ".py",
   "mimetype": "text/x-python",
   "name": "python",
   "nbconvert_exporter": "python",
   "pygments_lexer": "ipython3",
   "version": "3.13.7"
  }
 },
 "nbformat": 4,
 "nbformat_minor": 5
}
